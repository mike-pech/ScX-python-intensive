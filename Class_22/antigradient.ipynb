{
 "cells": [
  {
   "cell_type": "code",
   "execution_count": 1,
   "metadata": {},
   "outputs": [
    {
     "name": "stdout",
     "output_type": "stream",
     "text": [
      "Note: you may need to restart the kernel to use updated packages.\n"
     ]
    }
   ],
   "source": [
    "pip install -Uq sympy"
   ]
  },
  {
   "cell_type": "code",
   "execution_count": 2,
   "metadata": {},
   "outputs": [],
   "source": [
    "import sympy as sp"
   ]
  },
  {
   "cell_type": "code",
   "execution_count": 3,
   "metadata": {},
   "outputs": [],
   "source": [
    "x = sp.symbols(\"x\")"
   ]
  },
  {
   "cell_type": "code",
   "execution_count": 4,
   "metadata": {},
   "outputs": [
    {
     "data": {
      "text/latex": [
       "$\\displaystyle \\left(x - 10\\right)^{2}$"
      ],
      "text/plain": [
       "(x - 10)**2"
      ]
     },
     "execution_count": 4,
     "metadata": {},
     "output_type": "execute_result"
    }
   ],
   "source": [
    "equation = (x - 10)**2\n",
    "equation"
   ]
  },
  {
   "cell_type": "code",
   "execution_count": 5,
   "metadata": {},
   "outputs": [
    {
     "data": {
      "text/latex": [
       "$\\displaystyle 2 x - 20$"
      ],
      "text/plain": [
       "2*x - 20"
      ]
     },
     "execution_count": 5,
     "metadata": {},
     "output_type": "execute_result"
    }
   ],
   "source": [
    "sp.diff(equation)"
   ]
  },
  {
   "cell_type": "code",
   "execution_count": 6,
   "metadata": {},
   "outputs": [],
   "source": [
    "def antigrad(x: int | float) -> float:\n",
    "    return 2 * x - 20\n",
    "\n",
    "def get_antigrad_rec(x: int | float, lr: float, iterations: int) -> float:\n",
    "    if iterations == 0:\n",
    "        return x\n",
    "    return get_antigrad_rec(x - lr * antigrad(x), lr, iterations-1)\n",
    "\n",
    "def get_antigrad_fun(x: int | float, lr: float, iterations: int) -> float:\n",
    "    if iterations == 0:\n",
    "        return x\n",
    "    return get_antigrad_fun(x - 0.4 * antigrad(x), iterations-1)"
   ]
  },
  {
   "cell_type": "code",
   "execution_count": 8,
   "metadata": {},
   "outputs": [
    {
     "name": "stdout",
     "output_type": "stream",
     "text": [
      "X of 0 and Learning rate of 0.7 give 10.1024\n",
      "X of 0 and Learning rate of 0.2 give 9.2224\n",
      "X of 0 and Learning rate of 0.9 with 7 iterations give 12.097152000000001\n",
      "X of 0 and Learning rate of 0.5 with 100 iterations give 10.0\n",
      "X of 0 and Learning rate of 0.4 with 5 iterations give 9.9968\n"
     ]
    }
   ],
   "source": [
    "x = 0\n",
    "lr = 0.7\n",
    "\n",
    "print(f\"X of {x} and Learning rate of {lr} give {get_antigrad_rec(x, lr, 5)}\")\n",
    "\n",
    "x = 0\n",
    "lr = 0.2\n",
    "\n",
    "print(f\"X of {x} and Learning rate of {lr} give {get_antigrad_rec(x, lr, 5)}\")\n",
    "\n",
    "x = 0\n",
    "lr = 0.9\n",
    "iterations = 7\n",
    "\n",
    "print(f\"X of {x} and Learning rate of {lr} with {iterations} iterations give {get_antigrad_rec(x, lr, iterations)}\")\n",
    "\n",
    "x = 0\n",
    "lr = 0.5\n",
    "iterations = 100\n",
    "\n",
    "print(f\"X of {x} and Learning rate of {lr} with {iterations} iterations give {get_antigrad_rec(x, lr, iterations)}\")\n",
    "\n",
    "x = 0\n",
    "lr = 0.4\n",
    "iterations = 5\n",
    "\n",
    "print(f\"X of {x} and Learning rate of {lr} with {iterations} iterations give {get_antigrad_rec(x, lr, iterations)}\")"
   ]
  }
 ],
 "metadata": {
  "kernelspec": {
   "display_name": "Python 3",
   "language": "python",
   "name": "python3"
  },
  "language_info": {
   "codemirror_mode": {
    "name": "ipython",
    "version": 3
   },
   "file_extension": ".py",
   "mimetype": "text/x-python",
   "name": "python",
   "nbconvert_exporter": "python",
   "pygments_lexer": "ipython3",
   "version": "3.10.12"
  }
 },
 "nbformat": 4,
 "nbformat_minor": 2
}
