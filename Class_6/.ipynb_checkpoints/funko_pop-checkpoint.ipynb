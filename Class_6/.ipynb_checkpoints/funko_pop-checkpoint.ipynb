{
 "cells": [
  {
   "cell_type": "code",
   "execution_count": 2,
   "id": "c22ed694-a83e-4860-a946-7bdfe074f7d7",
   "metadata": {},
   "outputs": [],
   "source": [
    "import time\n",
    "import random as rng\n",
    "\n",
    "rng.seed(a=None, version=2)"
   ]
  },
  {
   "cell_type": "code",
   "execution_count": 3,
   "id": "95938e40-16c2-41d8-8969-b02049ec686f",
   "metadata": {},
   "outputs": [],
   "source": [
    "class MixinShooter:\n",
    "    def shoot(self):\n",
    "        print(\"Bang-bang! Ra-ta-ta-ta-ta!\")\n",
    "\n",
    "\n",
    "class MixinKiller:\n",
    "    \n",
    "    def kill(self):\n",
    "        print(\"I kill!\")\n",
    "\n",
    "\n",
    "class MixinDriver:\n",
    "    \n",
    "    def drive(self):\n",
    "        print(\"Wro-o-o-om!\")\n",
    "\n",
    "\n",
    "class MixinWalkable:\n",
    "    \n",
    "    def walk(self):\n",
    "        print(\"Я иду.\")\n",
    "\n",
    "\n",
    "class MixinRunable:\n",
    "    \n",
    "    def run(self):\n",
    "        print(\"Ыть! Ыть! Ыть! Бежа-ать!\")\n",
    "\n",
    "\n",
    "class MixinJumpable:\n",
    "    \n",
    "    def jump(self):\n",
    "        print(\"Прыг!\")\n",
    "\n",
    "\n",
    "class MixinPlayable(MixinWalkable, MixinRunable, MixinJumpable):\n",
    "    pass\n",
    "\n",
    "\n",
    "class MixinFallable:\n",
    "    def fall(self, object):\n",
    "        time.sleep(2)\n",
    "        print(f\"Ouch! I fell from {object}\")\n",
    "\n",
    "\n",
    "class MixinDuster:\n",
    "    def collect_dust():\n",
    "        print(\"Я собираю пыль\")\n",
    "\n"
   ]
  },
  {
   "cell_type": "code",
   "execution_count": 4,
   "id": "f34861bf-0100-46a3-a02f-c4e95a13e999",
   "metadata": {},
   "outputs": [],
   "source": [
    "class BaseBubbaSawyear:\n",
    "    \n",
    "    def __init__(self, name: str = \"Bubba Sawyear\", clothes: str = \"Working shirt and apron\"):\n",
    "        self.name = name\n",
    "        self.clothes = clothes\n",
    "\n",
    "\n",
    "class BaseMasterChief:\n",
    "\n",
    "    def __init__(self, name: str = \"John 117\", armor_color: str = \"Green\"):\n",
    "        self.name = name\n",
    "        self.armor_color = armor_color\n",
    "\n",
    "\n",
    "class BaseMannyPardo:\n",
    "\n",
    "    def __init__(self, name: str = \"Manny Pardo\", thick_skin: bool = True, height_m: float = 1.80):\n",
    "        self.name = name\n",
    "        self.thick_skin = thick_skin\n",
    "        self.height_m = height_m\n",
    "        \n",
    "\n",
    "class BaseRyanGosling:\n",
    "\n",
    "    def __init__(self, name: str = \"Ryan Gosling\", featured_films: int = 46):\n",
    "        self.name = name\n",
    "        self.featured_films = featured_films\n",
    "    \n",
    "    def die(self):\n",
    "        print(\"Да не умер я в конце Драйва!\")\n",
    "\n"
   ]
  },
  {
   "cell_type": "code",
   "execution_count": 5,
   "id": "5e68949c-7a54-4d82-becd-85d68b0a7ad1",
   "metadata": {},
   "outputs": [],
   "source": [
    "class BubbaSawyear(BaseBubbaSawyear, MixinPlayable, MixinKiller, MixinFallable):\n",
    "    \n",
    "    chainsaw_reved = False\n",
    "\n",
    "    def stink(self):\n",
    "        print(\"*воняет потом от Техасской жары*\")\n",
    "        \n",
    "    \n",
    "    def rev_chainsaw(self):\n",
    "        for _ in range(4):\n",
    "            time.sleep(rng.randint(1, 3))\n",
    "            print(\"Тр-р-рк\\n\")\n",
    "        chainsaw_reved = True\n",
    "        print(\"ВРУ-У-У-УМ! Гы-ы-ы-хы-хы! Гы-ы-ы-хы!\")\n",
    "\n",
    "    def dance(self):\n",
    "        if chainsaw_reved:\n",
    "            print(\"*таанцует с бензопилой*\")\n",
    "        else:\n",
    "            print(\"Запусти бензопилу сначала! Гы-ы-ы-ы!\")\n",
    "\n",
    "\n",
    "class MasterChief(BaseMasterChief, MixinPlayable, MixinShooter, MixinFallable):\n",
    "\n",
    "    def call_Cortana(self):\n",
    "        print(\"Кортана!\")\n",
    "\n",
    "    def save_the_universe(self):\n",
    "        print(\"Это было только начало!\")\n",
    "        time.sleep(2)\n",
    "        print(\"*снимает шлем*\")\n",
    "\n",
    "\n",
    "class MannyPardo(BaseMannyPardo, MixinPlayable, MixinShooter, MixinKiller, MixinDriver):\n",
    "    \n",
    "    def noire_one_liner(self):\n",
    "        print(\"Майами сошёл с ума...\\n\\n*закуривает*\")\n",
    "\n",
    "    def kill_mafia(self):\n",
    "        print(\"Играет Bloodline\")\n",
    "        for _ in range(1, 96):\n",
    "            time.sleep(rng.randint(0, 2))\n",
    "            print(f\"{_}x\")\n",
    "        print(\"Жёстко вырезал полный корабль колумбийцев!\")\n",
    "\n",
    "\n",
    "class RyanGosling(BaseRyanGosling, MixinPlayable, MixinDriver):\n",
    "\n",
    "    def real_human_being(self):\n",
    "        print(\"Real human being! And a real hero!\")\n",
    "\n",
    "    def being_special(self):\n",
    "        print(\"Я не репликант.\\n...\\n...\\n...\\nДААААА! ДААА!\")\n",
    "\n"
   ]
  },
  {
   "cell_type": "code",
   "execution_count": 6,
   "id": "a0bddb02-c5ff-4a9e-bf4b-99898c70726b",
   "metadata": {},
   "outputs": [],
   "source": [
    "class FunkoBubbaSawyear(BaseBubbaSawyear, MixinFallable, MixinDuster):\n",
    "    pass\n",
    "\n",
    "\n",
    "class FunkoMasterChief(BaseMasterChief, MixinFallable, MixinDuster):\n",
    "    pass\n",
    "\n",
    "\n",
    "class FunkoMannyPardo(BaseMannyPardo, MixinFallable, MixinDuster):\n",
    "    pass\n",
    "\n",
    "\n",
    "class FunkoRyanGosling(BaseRyanGosling, MixinFallable, MixinDuster):\n",
    "    pass\n",
    "\n"
   ]
  },
  {
   "cell_type": "code",
   "execution_count": 7,
   "id": "8f43618f-6863-475d-833c-d7ebd739082b",
   "metadata": {},
   "outputs": [],
   "source": [
    "playable_manny_pardo = MannyPardo()\n",
    "funko_manny_pardo = FunkoMannyPardo()\n",
    "\n",
    "playable_bubba_sawyear = BubbaSawyear(\"Festive Bubba\", \"Fancy Jacket\")\n",
    "funko_bubba_sawyear = FunkoBubbaSawyear()"
   ]
  },
  {
   "cell_type": "code",
   "execution_count": 8,
   "id": "717d92c7-dee2-47a8-ba6f-8e9da976f394",
   "metadata": {},
   "outputs": [
    {
     "data": {
      "text/plain": [
       "{'name': 'Festive Bubba', 'clothes': 'Fancy Jacket'}"
      ]
     },
     "execution_count": 8,
     "metadata": {},
     "output_type": "execute_result"
    }
   ],
   "source": [
    "vars(playable_bubba_sawyear)"
   ]
  },
  {
   "cell_type": "code",
   "execution_count": 9,
   "id": "d1461547-12a2-42ea-9e4b-adde4974dc52",
   "metadata": {},
   "outputs": [
    {
     "data": {
      "text/plain": [
       "{'name': 'Bubba Sawyear', 'clothes': 'Working shirt and apron'}"
      ]
     },
     "execution_count": 9,
     "metadata": {},
     "output_type": "execute_result"
    }
   ],
   "source": [
    "vars(funko_bubba_sawyear)"
   ]
  },
  {
   "cell_type": "code",
   "execution_count": null,
   "id": "f43ab439-eb26-449d-a985-93a49601c372",
   "metadata": {},
   "outputs": [],
   "source": [
    "playable_manny_pardo.kill_mafia()"
   ]
  },
  {
   "cell_type": "code",
   "execution_count": 10,
   "id": "4260a21b-d057-4a1f-92a3-8a1d23b77069",
   "metadata": {},
   "outputs": [
    {
     "name": "stdout",
     "output_type": "stream",
     "text": [
      "Ыть! Ыть! Ыть! Бежа-ать!\n"
     ]
    }
   ],
   "source": [
    "playable_bubba_sawyear.run()\n",
    "# funko_bubba_sawyear.run() # Не работает, т.к. фигурка баббы не умеет бегать!"
   ]
  },
  {
   "cell_type": "code",
   "execution_count": null,
   "id": "400fc162-59ab-4e81-a4db-b246affdc41d",
   "metadata": {},
   "outputs": [],
   "source": []
  }
 ],
 "metadata": {
  "kernelspec": {
   "display_name": "Python 3 (ipykernel)",
   "language": "python",
   "name": "python3"
  },
  "language_info": {
   "codemirror_mode": {
    "name": "ipython",
    "version": 3
   },
   "file_extension": ".py",
   "mimetype": "text/x-python",
   "name": "python",
   "nbconvert_exporter": "python",
   "pygments_lexer": "ipython3",
   "version": "3.11.5"
  }
 },
 "nbformat": 4,
 "nbformat_minor": 5
}
