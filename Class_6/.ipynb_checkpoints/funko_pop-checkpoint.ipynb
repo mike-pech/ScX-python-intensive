{
 "cells": [
  {
   "cell_type": "code",
   "execution_count": 1,
   "id": "c22ed694-a83e-4860-a946-7bdfe074f7d7",
   "metadata": {},
   "outputs": [],
   "source": [
    "import time\n",
    "import random as rng\n",
    "\n",
    "rng.seed(a=None, version=2)"
   ]
  },
  {
   "cell_type": "code",
   "execution_count": 17,
   "id": "95938e40-16c2-41d8-8969-b02049ec686f",
   "metadata": {},
   "outputs": [],
   "source": [
    "class MixinShooter:\n",
    "    \n",
    "    def shoot(self):\n",
    "        print(\"БАМ-БАМ! Ра-та-та-та-та!\")\n",
    "\n",
    "\n",
    "class MixinKiller:\n",
    "    \n",
    "    def kill(self):\n",
    "        print(\"УБИВАТЬ! УБИВАТЬ! УБИВАТЬ! УБИВАТЬ! УБИВАТЬ! УБИВАТЬ! УБИВАТЬ! УБИВАТЬ! УБИВАТЬ!\")\n",
    "\n",
    "\n",
    "class MixinDriver:\n",
    "    \n",
    "    def drive(self):\n",
    "        print(\"Вру-у-у-ум! Ни-а-у!\")\n",
    "\n",
    "\n",
    "class MixinWalkable:\n",
    "    \n",
    "    def walk(self):\n",
    "        print(\"Я иду.\")\n",
    "\n",
    "\n",
    "class MixinRunable:\n",
    "    \n",
    "    def run(self):\n",
    "        print(\"Ыть! Ыть! Ыть! Бежа-ать!\")\n",
    "\n",
    "\n",
    "class MixinJumpable:\n",
    "    \n",
    "    def jump(self):\n",
    "        print(\"Прыг!\")\n",
    "\n",
    "\n",
    "class MixinPlayable(MixinWalkable, MixinRunable, MixinJumpable):\n",
    "    pass\n",
    "\n",
    "\n",
    "class MixinFallable:\n",
    "    def fall(self, object):\n",
    "        time.sleep(2)\n",
    "        print(f\"Ай! Я упал с {object}\")\n",
    "\n",
    "\n",
    "class MixinDuster:\n",
    "    def collect_dust(self):\n",
    "        print(\"Я собираю пыль\")\n",
    "\n"
   ]
  },
  {
   "cell_type": "code",
   "execution_count": 18,
   "id": "f34861bf-0100-46a3-a02f-c4e95a13e999",
   "metadata": {},
   "outputs": [],
   "source": [
    "class BaseBubbaSawyear:\n",
    "    \n",
    "    def __init__(self, name: str = \"Бабба Сойер\", clothes: str = \"Вонючая рубаха и фартук\"):\n",
    "        self.name = name\n",
    "        self.clothes = clothes\n",
    "\n",
    "\n",
    "class BaseMasterChief:\n",
    "\n",
    "    def __init__(self, name: str = \"Джон 117\", armor_color: str = \"Зелёный\"):\n",
    "        self.name = name\n",
    "        self.armor_color = armor_color\n",
    "\n",
    "\n",
    "class BaseMannyPardo:\n",
    "\n",
    "    def __init__(self, name: str = \"Мэни Пардо\", thick_skin: bool = True, height_m: float = 1.80):\n",
    "        self.name = name\n",
    "        self.thick_skin = thick_skin\n",
    "        self.height_m = height_m\n",
    "        \n",
    "\n",
    "class BaseRyanGosling:\n",
    "\n",
    "    def __init__(self, name: str = \"Райан Гослин\", featured_films: int = 46):\n",
    "        self.name = name\n",
    "        self.featured_films = featured_films\n",
    "    \n",
    "    def die(self):\n",
    "        print(\"Да не умер я в конце Драйва!\")\n",
    "\n",
    "\n",
    "class BaseDaleCooper:\n",
    "\n",
    "    def __init__(self, name: str = \"Дэйл Купер\", likes_black_coffee_and_pies: bool = True):\n",
    "        self.name = name\n",
    "        self.likes_black_coffee_and_pies = likes_black_coffee_and_pies\n",
    "\n"
   ]
  },
  {
   "cell_type": "code",
   "execution_count": 19,
   "id": "5e68949c-7a54-4d82-becd-85d68b0a7ad1",
   "metadata": {},
   "outputs": [],
   "source": [
    "class BubbaSawyear(BaseBubbaSawyear, MixinPlayable, MixinKiller, MixinFallable):\n",
    "    \n",
    "    chainsaw_reved = False\n",
    "\n",
    "    def stink(self):\n",
    "        print(\"*воняет потом от Техасской жары*\")\n",
    "        \n",
    "    \n",
    "    def rev_chainsaw(self):\n",
    "        for _ in range(4):\n",
    "            time.sleep(rng.randint(1, 3))\n",
    "            print(\"Тр-р-рк\\n\")\n",
    "        chainsaw_reved = True\n",
    "        print(\"ВРУ-У-У-УМ! Гы-ы-ы-хы-хы! Гы-ы-ы-хы!\")\n",
    "\n",
    "    def dance(self):\n",
    "        if chainsaw_reved:\n",
    "            print(\"*таанцует с бензопилой*\")\n",
    "        else:\n",
    "            print(\"Запусти бензопилу сначала! Гы-ы-ы-ы!\")\n",
    "\n",
    "\n",
    "class MasterChief(BaseMasterChief, MixinPlayable, MixinShooter, MixinFallable):\n",
    "\n",
    "    def call_Cortana(self):\n",
    "        print(\"Кортана!\")\n",
    "\n",
    "    def save_the_universe(self):\n",
    "        print(\"Это было только начало!\")\n",
    "        time.sleep(2)\n",
    "        print(\"*снимает шлем*\")\n",
    "\n",
    "\n",
    "class MannyPardo(BaseMannyPardo, MixinPlayable, MixinShooter, MixinKiller, MixinDriver):\n",
    "    \n",
    "    def noire_one_liner(self):\n",
    "        print(\"Этот город сошёл с ума...\\n\\n*закуривает*\")\n",
    "\n",
    "    def kill_mafia(self):\n",
    "        print(\"Играет Bloodline\")\n",
    "        for _ in range(1, 96):\n",
    "            time.sleep(rng.randint(0, 2))\n",
    "            print(f\"{_}x\")\n",
    "        print(\"Жёстко вырезал полный корабль колумбийцев!\")\n",
    "\n",
    "\n",
    "class RyanGosling(BaseRyanGosling, MixinPlayable, MixinDriver):\n",
    "\n",
    "    def real_human_being(self):\n",
    "        print(\"Real human being! And a real hero!\")\n",
    "\n",
    "    def being_special(self):\n",
    "        print(\"Я не репликант.\\n...\\n...\\n...\\nДААААА!!! ЧЁРТ!!! ДААА!!\")\n",
    "\n",
    "\n",
    "class DaleCooper(BaseDaleCooper, MixinPlayable, MixinFallable):\n",
    "\n",
    "    def recorder(self):\n",
    "        print(\"Дайена! Сейчас я разминаюсь в своём номере и стою на голове.\")\n",
    "\n",
    "    def thumbs_up(self):\n",
    "        print(\"\\U0001f44d\")\n",
    "\n"
   ]
  },
  {
   "cell_type": "code",
   "execution_count": 20,
   "id": "a0bddb02-c5ff-4a9e-bf4b-99898c70726b",
   "metadata": {},
   "outputs": [],
   "source": [
    "class FunkoBubbaSawyear(BaseBubbaSawyear, MixinFallable, MixinDuster):\n",
    "    pass\n",
    "\n",
    "\n",
    "class FunkoMasterChief(BaseMasterChief, MixinFallable, MixinDuster):\n",
    "    pass\n",
    "\n",
    "\n",
    "class FunkoMannyPardo(BaseMannyPardo, MixinFallable, MixinDuster):\n",
    "    pass\n",
    "\n",
    "\n",
    "class FunkoRyanGosling(BaseRyanGosling, MixinFallable, MixinDuster):\n",
    "    pass\n",
    "\n",
    "\n",
    "class FunkoDaleCooper(BaseDaleCooper, MixinFallable, MixinDuster):\n",
    "    pass\n",
    "\n"
   ]
  },
  {
   "cell_type": "code",
   "execution_count": 21,
   "id": "8f43618f-6863-475d-833c-d7ebd739082b",
   "metadata": {},
   "outputs": [],
   "source": [
    "playable_manny_pardo = MannyPardo()\n",
    "funko_manny_pardo = FunkoMannyPardo()\n",
    "\n",
    "playable_bubba_sawyear = BubbaSawyear(\"Бабба в парадном\", \"Красивый вечерний пиджак\")\n",
    "funko_bubba_sawyear = FunkoBubbaSawyear()"
   ]
  },
  {
   "cell_type": "code",
   "execution_count": 22,
   "id": "717d92c7-dee2-47a8-ba6f-8e9da976f394",
   "metadata": {},
   "outputs": [
    {
     "data": {
      "text/plain": [
       "{'name': 'Бабба в парадном', 'clothes': 'Красивый вечерний пиджак'}"
      ]
     },
     "execution_count": 22,
     "metadata": {},
     "output_type": "execute_result"
    }
   ],
   "source": [
    "vars(playable_bubba_sawyear)"
   ]
  },
  {
   "cell_type": "code",
   "execution_count": 23,
   "id": "d1461547-12a2-42ea-9e4b-adde4974dc52",
   "metadata": {},
   "outputs": [
    {
     "data": {
      "text/plain": [
       "{'name': 'Бабба Сойер', 'clothes': 'Вонючая рубаха и фартук'}"
      ]
     },
     "execution_count": 23,
     "metadata": {},
     "output_type": "execute_result"
    }
   ],
   "source": [
    "vars(funko_bubba_sawyear)"
   ]
  },
  {
   "cell_type": "code",
   "execution_count": 24,
   "id": "f43ab439-eb26-449d-a985-93a49601c372",
   "metadata": {},
   "outputs": [
    {
     "name": "stdout",
     "output_type": "stream",
     "text": [
      "Играет Bloodline\n",
      "1x\n",
      "2x\n",
      "3x\n",
      "4x\n",
      "5x\n"
     ]
    },
    {
     "ename": "KeyboardInterrupt",
     "evalue": "",
     "output_type": "error",
     "traceback": [
      "\u001b[1;31m---------------------------------------------------------------------------\u001b[0m",
      "\u001b[1;31mKeyboardInterrupt\u001b[0m                         Traceback (most recent call last)",
      "Cell \u001b[1;32mIn[24], line 1\u001b[0m\n\u001b[1;32m----> 1\u001b[0m \u001b[43mplayable_manny_pardo\u001b[49m\u001b[38;5;241;43m.\u001b[39;49m\u001b[43mkill_mafia\u001b[49m\u001b[43m(\u001b[49m\u001b[43m)\u001b[49m\n",
      "Cell \u001b[1;32mIn[19], line 42\u001b[0m, in \u001b[0;36mMannyPardo.kill_mafia\u001b[1;34m(self)\u001b[0m\n\u001b[0;32m     40\u001b[0m \u001b[38;5;28mprint\u001b[39m(\u001b[38;5;124m\"\u001b[39m\u001b[38;5;124mИграет Bloodline\u001b[39m\u001b[38;5;124m\"\u001b[39m)\n\u001b[0;32m     41\u001b[0m \u001b[38;5;28;01mfor\u001b[39;00m _ \u001b[38;5;129;01min\u001b[39;00m \u001b[38;5;28mrange\u001b[39m(\u001b[38;5;241m1\u001b[39m, \u001b[38;5;241m96\u001b[39m):\n\u001b[1;32m---> 42\u001b[0m     \u001b[43mtime\u001b[49m\u001b[38;5;241;43m.\u001b[39;49m\u001b[43msleep\u001b[49m\u001b[43m(\u001b[49m\u001b[43mrng\u001b[49m\u001b[38;5;241;43m.\u001b[39;49m\u001b[43mrandint\u001b[49m\u001b[43m(\u001b[49m\u001b[38;5;241;43m0\u001b[39;49m\u001b[43m,\u001b[49m\u001b[43m \u001b[49m\u001b[38;5;241;43m2\u001b[39;49m\u001b[43m)\u001b[49m\u001b[43m)\u001b[49m\n\u001b[0;32m     43\u001b[0m     \u001b[38;5;28mprint\u001b[39m(\u001b[38;5;124mf\u001b[39m\u001b[38;5;124m\"\u001b[39m\u001b[38;5;132;01m{\u001b[39;00m_\u001b[38;5;132;01m}\u001b[39;00m\u001b[38;5;124mx\u001b[39m\u001b[38;5;124m\"\u001b[39m)\n\u001b[0;32m     44\u001b[0m \u001b[38;5;28mprint\u001b[39m(\u001b[38;5;124m\"\u001b[39m\u001b[38;5;124mЖёстко вырезал полный корабль колумбийцев!\u001b[39m\u001b[38;5;124m\"\u001b[39m)\n",
      "\u001b[1;31mKeyboardInterrupt\u001b[0m: "
     ]
    }
   ],
   "source": [
    "playable_manny_pardo.kill_mafia()"
   ]
  },
  {
   "cell_type": "code",
   "execution_count": 10,
   "id": "4260a21b-d057-4a1f-92a3-8a1d23b77069",
   "metadata": {},
   "outputs": [
    {
     "name": "stdout",
     "output_type": "stream",
     "text": [
      "Ыть! Ыть! Ыть! Бежа-ать!\n"
     ]
    }
   ],
   "source": [
    "playable_bubba_sawyear.run()\n",
    "# funko_bubba_sawyear.run() # Не работает, т.к. фигурка баббы не умеет бегать!"
   ]
  },
  {
   "cell_type": "code",
   "execution_count": 11,
   "id": "400fc162-59ab-4e81-a4db-b246affdc41d",
   "metadata": {},
   "outputs": [],
   "source": [
    "coop = DaleCooper()\n",
    "funko_coop = FunkoDaleCooper()"
   ]
  },
  {
   "cell_type": "code",
   "execution_count": 26,
   "id": "be8d5060-725b-44f5-bdfb-bf49adea302e",
   "metadata": {},
   "outputs": [
    {
     "name": "stdout",
     "output_type": "stream",
     "text": [
      "👍\n"
     ]
    }
   ],
   "source": [
    "coop.thumbs_up()"
   ]
  },
  {
   "cell_type": "code",
   "execution_count": 27,
   "id": "d8c5a101-68af-428f-9801-2fcfa0d3642f",
   "metadata": {},
   "outputs": [
    {
     "ename": "AttributeError",
     "evalue": "'FunkoDaleCooper' object has no attribute 'thumbs_up'",
     "output_type": "error",
     "traceback": [
      "\u001b[1;31m---------------------------------------------------------------------------\u001b[0m",
      "\u001b[1;31mAttributeError\u001b[0m                            Traceback (most recent call last)",
      "Cell \u001b[1;32mIn[27], line 1\u001b[0m\n\u001b[1;32m----> 1\u001b[0m \u001b[43mfunko_coop\u001b[49m\u001b[38;5;241;43m.\u001b[39;49m\u001b[43mthumbs_up\u001b[49m()\n",
      "\u001b[1;31mAttributeError\u001b[0m: 'FunkoDaleCooper' object has no attribute 'thumbs_up'"
     ]
    }
   ],
   "source": [
    "funko_coop.thumbs_up()"
   ]
  },
  {
   "cell_type": "code",
   "execution_count": 28,
   "id": "9864b804-dd3e-4e1c-a97c-01a3d3f716b3",
   "metadata": {},
   "outputs": [
    {
     "name": "stdout",
     "output_type": "stream",
     "text": [
      "Ай! Я упал с полки\n"
     ]
    }
   ],
   "source": [
    "funko_coop.fall(\"полки\")"
   ]
  },
  {
   "cell_type": "code",
   "execution_count": 29,
   "id": "7e13df9d-7c83-4610-9640-c1759d68b830",
   "metadata": {},
   "outputs": [
    {
     "name": "stdout",
     "output_type": "stream",
     "text": [
      "Я собираю пыль\n"
     ]
    }
   ],
   "source": [
    "funko_bubba_sawyear.collect_dust()"
   ]
  },
  {
   "cell_type": "code",
   "execution_count": 30,
   "id": "80919076-37ad-4f64-8165-3b479a7ec12b",
   "metadata": {},
   "outputs": [
    {
     "ename": "AttributeError",
     "evalue": "'DaleCooper' object has no attribute 'collect_dust'",
     "output_type": "error",
     "traceback": [
      "\u001b[1;31m---------------------------------------------------------------------------\u001b[0m",
      "\u001b[1;31mAttributeError\u001b[0m                            Traceback (most recent call last)",
      "Cell \u001b[1;32mIn[30], line 1\u001b[0m\n\u001b[1;32m----> 1\u001b[0m \u001b[43mcoop\u001b[49m\u001b[38;5;241;43m.\u001b[39;49m\u001b[43mcollect_dust\u001b[49m()\n",
      "\u001b[1;31mAttributeError\u001b[0m: 'DaleCooper' object has no attribute 'collect_dust'"
     ]
    }
   ],
   "source": [
    "coop.collect_dust()"
   ]
  },
  {
   "cell_type": "code",
   "execution_count": null,
   "id": "637f09c1-6031-4c14-9739-bcbd84cad72a",
   "metadata": {},
   "outputs": [],
   "source": []
  }
 ],
 "metadata": {
  "kernelspec": {
   "display_name": "Python 3 (ipykernel)",
   "language": "python",
   "name": "python3"
  },
  "language_info": {
   "codemirror_mode": {
    "name": "ipython",
    "version": 3
   },
   "file_extension": ".py",
   "mimetype": "text/x-python",
   "name": "python",
   "nbconvert_exporter": "python",
   "pygments_lexer": "ipython3",
   "version": "3.11.5"
  }
 },
 "nbformat": 4,
 "nbformat_minor": 5
}
