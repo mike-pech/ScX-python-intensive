{
 "cells": [
  {
   "cell_type": "code",
   "execution_count": 70,
   "id": "39a60686-25ae-4780-b574-72635cb3a3cc",
   "metadata": {},
   "outputs": [],
   "source": [
    "class MixinFlyable:\n",
    "    def fly(self):\n",
    "        print(\"I fly!\")\n",
    "\n",
    "class MixinWalkable:\n",
    "    def walk(self):\n",
    "        print(\"I walk!\")\n",
    "\n",
    "class MixinSwimable:\n",
    "    def swim(self):\n",
    "        print(\"I swim!\")\n",
    "\n",
    "class MixinTalkable:\n",
    "    def squeak(self):\n",
    "        print(\"Squeak!\")\n",
    "        "
   ]
  },
  {
   "cell_type": "code",
   "execution_count": 49,
   "id": "f8094eb1-f44b-4a24-a54d-d4b26dadc859",
   "metadata": {},
   "outputs": [],
   "source": [
    "class BaseBird:\n",
    "    \n",
    "    wings_length: float = 12.5\n",
    "    legs_length: float = 3.5\n",
    "    color: str = \"white\"\n",
    "    \n",
    "    # def __init__(\n",
    "    #     self,\n",
    "    #     wings_length: float = 12.5,\n",
    "    #     legs_length: float = 3.5,\n",
    "    #     color: str = \"white\"\n",
    "    # ):\n",
    "    #     self.wings_length = wings_length\n",
    "    #     self.legs_length = legs_length\n",
    "    #     self.color = color\n",
    "    #     print(\"Bird initialised\")\n",
    "\n",
    "    def poop_on_parked_cars(self):\n",
    "        print(\"I pooped on your car!\")\n",
    "        \n",
    "\n",
    "class Bird(BaseBird, MixinFlyable, MixinWalkable, MixinSwimable, MixinTalkable):\n",
    "\n",
    "    def squeak(self):\n",
    "        print(\"Squeakety-squeak! Tweet-tweet!\")\n",
    "    \n",
    "\n",
    "class RubberToy:\n",
    "\n",
    "    toxic: bool = True\n",
    "    size_cm3: float = 12\n",
    "    color: str = 'yellow'\n",
    "    \n",
    "    # def __init__(self, toxic: bool = True, size_cm3: float = 12, color: str = 'yellow'):\n",
    "    #     self.toxic = toxic\n",
    "    #     self.size_cm3 = size_cm3\n",
    "    #     self.color = color\n",
    "    #     print('Rubber toy initialised')\n",
    "\n",
    "    def bounce(self):\n",
    "        print(\"Bjo-o-o-ong!\")\n",
    "\n",
    "    def deform(self):\n",
    "        print(\"It's morphing time!\")\n",
    "\n",
    "    def squeak(self):\n",
    "        print(\"SQUEAK!\")"
   ]
  },
  {
   "cell_type": "code",
   "execution_count": 50,
   "id": "911a5d3d-f953-43d6-90f3-77327b6eb45d",
   "metadata": {},
   "outputs": [],
   "source": [
    "birb = Bird()\n",
    "toy = RubberToy()"
   ]
  },
  {
   "cell_type": "code",
   "execution_count": 51,
   "id": "d4f03f4e-888f-4b66-bd0d-863410f02f15",
   "metadata": {},
   "outputs": [
    {
     "data": {
      "text/plain": [
       "{}"
      ]
     },
     "execution_count": 51,
     "metadata": {},
     "output_type": "execute_result"
    }
   ],
   "source": [
    "vars(birb)"
   ]
  },
  {
   "cell_type": "code",
   "execution_count": 52,
   "id": "daca1e36-0a9e-4ecb-bb8e-17296db9469c",
   "metadata": {},
   "outputs": [
    {
     "data": {
      "text/plain": [
       "{}"
      ]
     },
     "execution_count": 52,
     "metadata": {},
     "output_type": "execute_result"
    }
   ],
   "source": [
    "vars(toy)"
   ]
  },
  {
   "cell_type": "code",
   "execution_count": 53,
   "id": "37b3156a-0629-4ffc-a39d-9d92d0568476",
   "metadata": {},
   "outputs": [
    {
     "name": "stdout",
     "output_type": "stream",
     "text": [
      "I pooped on your car!\n",
      "Squeakety-squeak! Tweet-tweet!\n",
      "I fly!\n"
     ]
    }
   ],
   "source": [
    "birb.poop_on_parked_cars()\n",
    "birb.squeak()\n",
    "birb.fly()"
   ]
  },
  {
   "cell_type": "code",
   "execution_count": 54,
   "id": "51a96d4b-e35a-4717-9744-8e9420e44a3e",
   "metadata": {},
   "outputs": [
    {
     "name": "stdout",
     "output_type": "stream",
     "text": [
      "It's morphing time!\n",
      "SQUEAK!\n",
      "Bjo-o-o-ong!\n"
     ]
    }
   ],
   "source": [
    "toy.deform()\n",
    "toy.squeak()\n",
    "toy.bounce()"
   ]
  },
  {
   "cell_type": "code",
   "execution_count": 64,
   "id": "1d907fb1-f783-4495-8232-f02204d9c72a",
   "metadata": {},
   "outputs": [],
   "source": [
    "class RubberDuckling(RubberToy, BaseBird, MixinTalkable, MixinSwimable):\n",
    "    pass"
   ]
  },
  {
   "cell_type": "code",
   "execution_count": 65,
   "id": "1f86fefe-59c5-4aea-ae56-248216d901c5",
   "metadata": {},
   "outputs": [],
   "source": [
    "rub_duck = RubberDuckling()"
   ]
  },
  {
   "cell_type": "code",
   "execution_count": 66,
   "id": "4c06110b-4ba9-48d7-97ef-f6bbeae6aede",
   "metadata": {},
   "outputs": [
    {
     "name": "stdout",
     "output_type": "stream",
     "text": [
      "I pooped on your car!\n",
      "SQUEAK!\n"
     ]
    }
   ],
   "source": [
    "rub_duck.poop_on_parked_cars()\n",
    "rub_duck.squeak()"
   ]
  },
  {
   "cell_type": "code",
   "execution_count": 69,
   "id": "5db5dc44-af51-4cd5-ab12-1ac94b4e9809",
   "metadata": {},
   "outputs": [
    {
     "name": "stdout",
     "output_type": "stream",
     "text": [
      "It's morphing time!\n",
      "I swim!\n"
     ]
    },
    {
     "data": {
      "text/plain": [
       "12.5"
      ]
     },
     "execution_count": 69,
     "metadata": {},
     "output_type": "execute_result"
    }
   ],
   "source": [
    "rub_duck.deform()\n",
    "# rub_duck.fly()\n",
    "rub_duck.swim()\n",
    "rub_duck.wings_length"
   ]
  },
  {
   "cell_type": "code",
   "execution_count": null,
   "id": "07385381-383b-414f-a329-98d99e0e0e92",
   "metadata": {},
   "outputs": [],
   "source": []
  },
  {
   "cell_type": "code",
   "execution_count": null,
   "id": "eb652419-c632-4971-8336-50cc37804d87",
   "metadata": {},
   "outputs": [],
   "source": []
  }
 ],
 "metadata": {
  "kernelspec": {
   "display_name": "Python 3 (ipykernel)",
   "language": "python",
   "name": "python3"
  },
  "language_info": {
   "codemirror_mode": {
    "name": "ipython",
    "version": 3
   },
   "file_extension": ".py",
   "mimetype": "text/x-python",
   "name": "python",
   "nbconvert_exporter": "python",
   "pygments_lexer": "ipython3",
   "version": "3.11.5"
  }
 },
 "nbformat": 4,
 "nbformat_minor": 5
}
