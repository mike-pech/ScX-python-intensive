{
 "cells": [
  {
   "cell_type": "code",
   "execution_count": 1,
   "id": "c22ed694-a83e-4860-a946-7bdfe074f7d7",
   "metadata": {},
   "outputs": [],
   "source": [
    "import time\n",
    "import random as rng\n",
    "\n",
    "rng.seed(a=None, version=2)"
   ]
  },
  {
   "cell_type": "code",
   "execution_count": 2,
   "id": "95938e40-16c2-41d8-8969-b02049ec686f",
   "metadata": {},
   "outputs": [],
   "source": [
    "class Character:\n",
    "\n",
    "    def __init__(self, name):\n",
    "        self.name = name\n",
    "\n",
    "    def hello(self):\n",
    "        print(f\"Привет! Меня зовут {self.name}.\")       # Допустим наши фигурки очень умные и могут даже сказать своё имя\n",
    "\n",
    "\n",
    "class MixinShooter:\n",
    "    \n",
    "    def shoot(self):\n",
    "        print(\"БАМ-БАМ! Ра-та-та-та-та!\")\n",
    "\n",
    "\n",
    "class MixinKiller:\n",
    "    \n",
    "    def kill(self):\n",
    "        print(\"УБИВАТЬ! УБИВАТЬ! УБИВАТЬ! УБИВАТЬ! УБИВАТЬ! УБИВАТЬ! УБИВАТЬ! УБИВАТЬ! УБИВАТЬ!\")\n",
    "\n",
    "\n",
    "class MixinDriver:\n",
    "    \n",
    "    def drive(self):\n",
    "        print(\"Вру-у-у-ум! Ни-а-у!\")\n",
    "\n",
    "\n",
    "class MixinWalkable:\n",
    "    \n",
    "    def walk(self):\n",
    "        print(\"Я иду.\")\n",
    "\n",
    "\n",
    "class MixinRunable:\n",
    "    \n",
    "    def run(self):\n",
    "        print(\"Ыть! Ыть! Ыть! Бежа-ать!\")\n",
    "\n",
    "\n",
    "class MixinJumpable:\n",
    "    \n",
    "    def jump(self):\n",
    "        print(\"Прыг!\")\n",
    "\n",
    "\n",
    "class MixinPlayable(MixinWalkable, MixinRunable, MixinJumpable):\n",
    "    pass\n",
    "\n",
    "\n",
    "class MixinFallable:\n",
    "    def fall(self, object):\n",
    "        time.sleep(2)\n",
    "        print(f\"Ай! Я упал с {object}\")\n",
    "\n",
    "\n",
    "class MixinDuster:\n",
    "    def collect_dust(self):\n",
    "        print(\"Я собираю пыль\")\n",
    "\n",
    "\n",
    "class MixinFunkoPop(MixinDuster, MixinFallable):\n",
    "    pass\n",
    "\n"
   ]
  },
  {
   "cell_type": "code",
   "execution_count": 3,
   "id": "f34861bf-0100-46a3-a02f-c4e95a13e999",
   "metadata": {},
   "outputs": [],
   "source": [
    "class BubbaSawyear(Character):\n",
    "    \n",
    "    def __init__(self, name: str = \"Бабба Сойер\", clothes: str = \"Вонючая рубаха и фартук\"):\n",
    "        self.name = name\n",
    "        self.clothes = clothes\n",
    "\n",
    "\n",
    "class MasterChief(Character):\n",
    "\n",
    "    def __init__(self, name: str = \"Джон 117\", armor_color: str = \"Зелёный\"):\n",
    "        self.name = name\n",
    "        self.armor_color = armor_color\n",
    "\n",
    "\n",
    "class MannyPardo(Character):\n",
    "\n",
    "    def __init__(self, name: str = \"Мэни Пардо\", thick_skin: bool = True, height_m: float = 1.80):\n",
    "        self.name = name\n",
    "        self.thick_skin = thick_skin\n",
    "        self.height_m = height_m\n",
    "        \n",
    "\n",
    "class RyanGosling(Character):\n",
    "\n",
    "    def __init__(self, name: str = \"Райан Гослинг\", featured_films: int = 46):\n",
    "        self.name = name\n",
    "        self.featured_films = featured_films\n",
    "    \n",
    "    def die(self):\n",
    "        print(\"Да не умер я в конце Драйва!\")                   # ...и даже сказать, что не умерли в конце Драйва)\n",
    "\n",
    "\n",
    "class DaleCooper(Character):\n",
    "\n",
    "    def __init__(self, name: str = \"Дэйл Купер\", likes_black_coffee_and_pies: bool = True):\n",
    "        self.name = name\n",
    "        self.likes_black_coffee_and_pies = likes_black_coffee_and_pies\n",
    "\n"
   ]
  },
  {
   "cell_type": "code",
   "execution_count": 4,
   "id": "5e68949c-7a54-4d82-becd-85d68b0a7ad1",
   "metadata": {},
   "outputs": [],
   "source": [
    "class PlayableBubbaSawyear(BubbaSawyear, MixinPlayable, MixinKiller, MixinFallable):\n",
    "    \n",
    "    chainsaw_reved = False\n",
    "\n",
    "    def stink(self):\n",
    "        print(\"*воняет потом от Техасской жары*\")\n",
    "        \n",
    "    \n",
    "    def rev_chainsaw(self):\n",
    "        for _ in range(4):\n",
    "            time.sleep(rng.randint(1, 3))\n",
    "            print(\"Тр-р-рк\\n\")\n",
    "        chainsaw_reved = True\n",
    "        print(\"ВРУ-У-У-УМ! Гы-ы-ы-хы-хы! Гы-ы-ы-хы!\")\n",
    "\n",
    "    def dance(self):\n",
    "        if chainsaw_reved:\n",
    "            print(\"*таанцует с бензопилой*\")\n",
    "        else:\n",
    "            print(\"Запусти бензопилу сначала! Гы-ы-ы-ы!\")\n",
    "\n",
    "\n",
    "class PlayableMasterChief(MasterChief, MixinPlayable, MixinShooter, MixinFallable):\n",
    "\n",
    "    def call_Cortana(self):\n",
    "        print(\"Кортана!\")\n",
    "\n",
    "    def save_the_universe(self):\n",
    "        print(\"Это было только начало!\")\n",
    "        time.sleep(2)\n",
    "        print(\"*снимает шлем*\")\n",
    "\n",
    "\n",
    "class PlayableMannyPardo(MannyPardo, MixinPlayable, MixinShooter, MixinKiller, MixinDriver):\n",
    "    \n",
    "    def noire_one_liner(self):\n",
    "        print(\"Этот город сошёл с ума...\\n\\n*закуривает*\")\n",
    "\n",
    "    def kill_mafia(self):\n",
    "        print(\"Играет Bloodline\")\n",
    "        for _ in range(1, 96):\n",
    "            time.sleep(rng.randint(0, 2))\n",
    "            print(f\"{_}x\")\n",
    "        print(\"Жёстко вырезал полный корабль колумбийцев!\")\n",
    "\n",
    "\n",
    "class PlayableRyanGosling(RyanGosling, MixinPlayable, MixinDriver):\n",
    "\n",
    "    def real_human_being(self):\n",
    "        print(\"Real human being! And a real hero!\")\n",
    "\n",
    "    def being_special(self):\n",
    "        print(\"Я не репликант.\\n...\\n...\\n...\\nДААААА!!! ЧЁРТ!!! ДААА!!\")\n",
    "\n",
    "\n",
    "class PlayableDaleCooper(DaleCooper, MixinPlayable, MixinFallable):\n",
    "\n",
    "    def recorder(self):\n",
    "        print(\"Дайена! Сейчас я разминаюсь в своём номере и стою на голове.\")\n",
    "\n",
    "    def thumbs_up(self):\n",
    "        print(\"\\U0001f44d\")\n",
    "\n"
   ]
  },
  {
   "cell_type": "code",
   "execution_count": 5,
   "id": "a0bddb02-c5ff-4a9e-bf4b-99898c70726b",
   "metadata": {},
   "outputs": [],
   "source": [
    "class FunkoBubbaSawyear(BubbaSawyear, MixinFunkoPop):\n",
    "    pass\n",
    "\n",
    "\n",
    "class FunkoMasterChief(MasterChief, MixinFunkoPop):\n",
    "    pass\n",
    "\n",
    "\n",
    "class FunkoMannyPardo(MannyPardo, MixinFunkoPop):\n",
    "    pass\n",
    "\n",
    "\n",
    "class FunkoRyanGosling(RyanGosling, MixinFunkoPop):\n",
    "    pass\n",
    "\n",
    "\n",
    "class FunkoDaleCooper(DaleCooper, MixinFunkoPop):\n",
    "    pass\n",
    "\n"
   ]
  },
  {
   "cell_type": "code",
   "execution_count": 6,
   "id": "8f43618f-6863-475d-833c-d7ebd739082b",
   "metadata": {},
   "outputs": [],
   "source": [
    "playable_manny_pardo = PlayableMannyPardo()\n",
    "funko_manny_pardo = FunkoMannyPardo()\n",
    "\n",
    "playable_bubba_sawyear = PlayableBubbaSawyear(\"Бабба в парадном\", \"Красивый вечерний пиджак\")\n",
    "funko_bubba_sawyear = FunkoBubbaSawyear()"
   ]
  },
  {
   "cell_type": "code",
   "execution_count": 7,
   "id": "717d92c7-dee2-47a8-ba6f-8e9da976f394",
   "metadata": {},
   "outputs": [
    {
     "data": {
      "text/plain": [
       "{'name': 'Бабба в парадном', 'clothes': 'Красивый вечерний пиджак'}"
      ]
     },
     "execution_count": 7,
     "metadata": {},
     "output_type": "execute_result"
    }
   ],
   "source": [
    "vars(playable_bubba_sawyear)"
   ]
  },
  {
   "cell_type": "code",
   "execution_count": 8,
   "id": "d1461547-12a2-42ea-9e4b-adde4974dc52",
   "metadata": {},
   "outputs": [
    {
     "data": {
      "text/plain": [
       "{'name': 'Бабба Сойер', 'clothes': 'Вонючая рубаха и фартук'}"
      ]
     },
     "execution_count": 8,
     "metadata": {},
     "output_type": "execute_result"
    }
   ],
   "source": [
    "vars(funko_bubba_sawyear)"
   ]
  },
  {
   "cell_type": "code",
   "execution_count": 9,
   "id": "f43ab439-eb26-449d-a985-93a49601c372",
   "metadata": {},
   "outputs": [
    {
     "name": "stdout",
     "output_type": "stream",
     "text": [
      "Играет Bloodline\n",
      "1x\n",
      "2x\n",
      "3x\n",
      "4x\n",
      "5x\n",
      "6x\n",
      "7x\n",
      "8x\n",
      "9x\n",
      "10x\n",
      "11x\n",
      "12x\n",
      "13x\n",
      "14x\n",
      "15x\n",
      "16x\n",
      "17x\n",
      "18x\n",
      "19x\n",
      "20x\n",
      "21x\n",
      "22x\n",
      "23x\n",
      "24x\n",
      "25x\n",
      "26x\n",
      "27x\n",
      "28x\n",
      "29x\n",
      "30x\n",
      "31x\n",
      "32x\n",
      "33x\n",
      "34x\n",
      "35x\n",
      "36x\n",
      "37x\n",
      "38x\n",
      "39x\n",
      "40x\n",
      "41x\n",
      "42x\n",
      "43x\n",
      "44x\n",
      "45x\n",
      "46x\n",
      "47x\n",
      "48x\n",
      "49x\n",
      "50x\n",
      "51x\n",
      "52x\n",
      "53x\n",
      "54x\n",
      "55x\n",
      "56x\n",
      "57x\n",
      "58x\n",
      "59x\n",
      "60x\n",
      "61x\n",
      "62x\n",
      "63x\n",
      "64x\n",
      "65x\n",
      "66x\n",
      "67x\n",
      "68x\n",
      "69x\n",
      "70x\n",
      "71x\n",
      "72x\n",
      "73x\n",
      "74x\n",
      "75x\n",
      "76x\n",
      "77x\n",
      "78x\n",
      "79x\n",
      "80x\n",
      "81x\n",
      "82x\n",
      "83x\n",
      "84x\n",
      "85x\n",
      "86x\n",
      "87x\n",
      "88x\n",
      "89x\n",
      "90x\n",
      "91x\n",
      "92x\n",
      "93x\n",
      "94x\n",
      "95x\n",
      "Жёстко вырезал полный корабль колумбийцев!\n"
     ]
    }
   ],
   "source": [
    "playable_manny_pardo.kill_mafia()"
   ]
  },
  {
   "cell_type": "code",
   "execution_count": 10,
   "id": "4260a21b-d057-4a1f-92a3-8a1d23b77069",
   "metadata": {},
   "outputs": [
    {
     "name": "stdout",
     "output_type": "stream",
     "text": [
      "Ыть! Ыть! Ыть! Бежа-ать!\n"
     ]
    }
   ],
   "source": [
    "playable_bubba_sawyear.run()\n",
    "# funko_bubba_sawyear.run() # Не работает, т.к. фигурка баббы не умеет бегать!"
   ]
  },
  {
   "cell_type": "code",
   "execution_count": 11,
   "id": "400fc162-59ab-4e81-a4db-b246affdc41d",
   "metadata": {},
   "outputs": [],
   "source": [
    "coop = PlayableDaleCooper()\n",
    "funko_coop = FunkoDaleCooper()"
   ]
  },
  {
   "cell_type": "code",
   "execution_count": 12,
   "id": "be8d5060-725b-44f5-bdfb-bf49adea302e",
   "metadata": {},
   "outputs": [
    {
     "name": "stdout",
     "output_type": "stream",
     "text": [
      "👍\n"
     ]
    }
   ],
   "source": [
    "coop.thumbs_up()"
   ]
  },
  {
   "cell_type": "code",
   "execution_count": 13,
   "id": "d8c5a101-68af-428f-9801-2fcfa0d3642f",
   "metadata": {},
   "outputs": [
    {
     "ename": "AttributeError",
     "evalue": "'FunkoDaleCooper' object has no attribute 'thumbs_up'",
     "output_type": "error",
     "traceback": [
      "\u001b[0;31m---------------------------------------------------------------------------\u001b[0m",
      "\u001b[0;31mAttributeError\u001b[0m                            Traceback (most recent call last)",
      "\u001b[1;32m/home/skelet0n/Python/ScX-python-intensive/Class_6/funko_pop.ipynb Cell 13\u001b[0m line \u001b[0;36m1\n\u001b[0;32m----> <a href='vscode-notebook-cell://wsl%2Bubuntu/home/skelet0n/Python/ScX-python-intensive/Class_6/funko_pop.ipynb#X15sdnNjb2RlLXJlbW90ZQ%3D%3D?line=0'>1</a>\u001b[0m funko_coop\u001b[39m.\u001b[39;49mthumbs_up()\n",
      "\u001b[0;31mAttributeError\u001b[0m: 'FunkoDaleCooper' object has no attribute 'thumbs_up'"
     ]
    }
   ],
   "source": [
    "funko_coop.thumbs_up()"
   ]
  },
  {
   "cell_type": "code",
   "execution_count": 14,
   "id": "9864b804-dd3e-4e1c-a97c-01a3d3f716b3",
   "metadata": {},
   "outputs": [
    {
     "name": "stdout",
     "output_type": "stream",
     "text": [
      "Ай! Я упал с полки\n"
     ]
    }
   ],
   "source": [
    "funko_coop.fall(\"полки\")"
   ]
  },
  {
   "cell_type": "code",
   "execution_count": 15,
   "id": "7e13df9d-7c83-4610-9640-c1759d68b830",
   "metadata": {},
   "outputs": [
    {
     "name": "stdout",
     "output_type": "stream",
     "text": [
      "Я собираю пыль\n"
     ]
    }
   ],
   "source": [
    "funko_bubba_sawyear.collect_dust()"
   ]
  },
  {
   "cell_type": "code",
   "execution_count": 16,
   "id": "80919076-37ad-4f64-8165-3b479a7ec12b",
   "metadata": {},
   "outputs": [
    {
     "ename": "AttributeError",
     "evalue": "'PlayableDaleCooper' object has no attribute 'collect_dust'",
     "output_type": "error",
     "traceback": [
      "\u001b[0;31m---------------------------------------------------------------------------\u001b[0m",
      "\u001b[0;31mAttributeError\u001b[0m                            Traceback (most recent call last)",
      "\u001b[1;32m/home/skelet0n/Python/ScX-python-intensive/Class_6/funko_pop.ipynb Cell 16\u001b[0m line \u001b[0;36m1\n\u001b[0;32m----> <a href='vscode-notebook-cell://wsl%2Bubuntu/home/skelet0n/Python/ScX-python-intensive/Class_6/funko_pop.ipynb#X21sdnNjb2RlLXJlbW90ZQ%3D%3D?line=0'>1</a>\u001b[0m coop\u001b[39m.\u001b[39;49mcollect_dust()\n",
      "\u001b[0;31mAttributeError\u001b[0m: 'PlayableDaleCooper' object has no attribute 'collect_dust'"
     ]
    }
   ],
   "source": [
    "coop.collect_dust()"
   ]
  },
  {
   "cell_type": "code",
   "execution_count": 17,
   "id": "637f09c1-6031-4c14-9739-bcbd84cad72a",
   "metadata": {},
   "outputs": [],
   "source": [
    "playable_ryan_gosling = PlayableRyanGosling()\n",
    "funko_ryan_gosling = FunkoRyanGosling()"
   ]
  },
  {
   "cell_type": "code",
   "execution_count": 18,
   "id": "6e480ca9",
   "metadata": {},
   "outputs": [
    {
     "name": "stdout",
     "output_type": "stream",
     "text": [
      "Да не умер я в конце Драйва!\n"
     ]
    }
   ],
   "source": [
    "funko_ryan_gosling.die()"
   ]
  },
  {
   "cell_type": "code",
   "execution_count": 19,
   "id": "f4b861a4",
   "metadata": {},
   "outputs": [
    {
     "name": "stdout",
     "output_type": "stream",
     "text": [
      "Привет! Меня зовут Райан Гослин.\n"
     ]
    }
   ],
   "source": [
    "playable_ryan_gosling.hello()"
   ]
  },
  {
   "cell_type": "code",
   "execution_count": null,
   "id": "da251e6d",
   "metadata": {},
   "outputs": [],
   "source": []
  }
 ],
 "metadata": {
  "kernelspec": {
   "display_name": "Python 3 (ipykernel)",
   "language": "python",
   "name": "python3"
  },
  "language_info": {
   "codemirror_mode": {
    "name": "ipython",
    "version": 3
   },
   "file_extension": ".py",
   "mimetype": "text/x-python",
   "name": "python",
   "nbconvert_exporter": "python",
   "pygments_lexer": "ipython3",
   "version": "3.10.12"
  }
 },
 "nbformat": 4,
 "nbformat_minor": 5
}
