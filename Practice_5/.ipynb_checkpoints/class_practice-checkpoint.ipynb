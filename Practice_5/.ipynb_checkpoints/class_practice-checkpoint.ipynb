{
 "cells": [
  {
   "cell_type": "code",
   "execution_count": 1,
   "id": "f49933c5-6b9e-4dac-9f93-7edcafd45bea",
   "metadata": {},
   "outputs": [],
   "source": [
    "import time"
   ]
  },
  {
   "cell_type": "code",
   "execution_count": 2,
   "id": "595ac8bc-6543-4066-ae37-bf02cb7fde7a",
   "metadata": {},
   "outputs": [],
   "source": [
    "class Character:\n",
    "\n",
    "    def __init__(self, name, strength, perception, endurance, charisma, intelligence, agility, luck):\n",
    "        self.name = name\n",
    "        self.strength = strength\n",
    "        self.perception = perception\n",
    "        self.endurance = endurance\n",
    "        self.charisma = charisma\n",
    "        self.intelligence = intelligence\n",
    "        self.agility = agility\n",
    "        self.luck = luck\n",
    "        self.damage = self.strength * 35\n",
    "        self.speed = self.agility * 5 + self.endurance / 2\n",
    "\n",
    "    def trade(self):\n",
    "        print(\"Я торгуюсь\")\n",
    "\n",
    "    def think(self):\n",
    "        if self.intelligence <= 2:\n",
    "            print(\"ГЫ, я не умею думац\")\n",
    "        else:\n",
    "            print(f\"Я думаю {75//self.intelligence} с\")\n",
    "            time.sleep(75//self.intelligence*5)\n",
    "            print(\"Я подумал\")\n",
    "\n",
    "    def wait(self, delay: int = 10):\n",
    "        time.sleep(delay)\n",
    "        print(f\"Я подождал {delay} с\")\n",
    "\n",
    "    def attack(self):\n",
    "        print(f\"Я атакую, нанося {self.damage} урона!\")\n",
    "\n",
    "    def move(self, distance = 10):\n",
    "        if distance > self.endurance * 10:\n",
    "            print(\"Слишком далеко идти; мне лень\")\n",
    "        else:\n",
    "            print(f\"Я прошёл {distance*10} метров со скоростью {self.speed}\")"
   ]
  },
  {
   "cell_type": "code",
   "execution_count": 3,
   "id": "84d97c9a-23d3-4b45-8ddc-72e2407ab80a",
   "metadata": {},
   "outputs": [],
   "source": [
    "class Hero(Character):\n",
    "   \n",
    "    def save_vault_13(self):\n",
    "        print(\"Я нашёл водяной чип и спас убежище 13. Кайф)\")\n",
    "\n",
    "    def save_princess(self):\n",
    "        print(\"Извини, принцесса в другом замке! Так что тут мои полномочия всё\")"
   ]
  },
  {
   "cell_type": "code",
   "execution_count": 4,
   "id": "9e423710-49a4-4dd5-8ce2-52a0e0bd340c",
   "metadata": {},
   "outputs": [],
   "source": [
    "class Villain(Character):\n",
    "\n",
    "    def __init__(self, name, strength, perception, endurance, charisma, intelligence, agility, luck, villianness):\n",
    "        super().__init__(name, strength, perception, endurance, charisma, intelligence, agility, luck)\n",
    "        self.villianness = villianness\n",
    "    \n",
    "    def blow_up_Megaton(self):\n",
    "        for i in range(5, 0, -1):\n",
    "            print(f\"{i}...\")\n",
    "            time.sleep(1)\n",
    "        print(\"Не стоило мне доверять красную кнопку. \\n\\n *Злодейский смех*\")\n",
    "\n",
    "    def trade(self):\n",
    "        print(\"Да ну! Надо мне ещё с кем-то торговаться!\")\n",
    "        time.sleep(4)\n",
    "        print(\"Я украл деньги у торговца!\")"
   ]
  },
  {
   "cell_type": "code",
   "execution_count": 5,
   "id": "d6d4a324-837b-47dc-8f5b-d33aeead32e7",
   "metadata": {},
   "outputs": [],
   "source": [
    "class Vova(Hero):\n",
    "    pass\n",
    "\n",
    "class Avov(Villain):\n",
    "    pass"
   ]
  },
  {
   "cell_type": "code",
   "execution_count": 6,
   "id": "72e559cb-9736-4603-8c78-d45df571370d",
   "metadata": {},
   "outputs": [],
   "source": [
    "goodie_vova = Vova(\"Vova\", 9, 4, 7, 5, 5, 4, 2)"
   ]
  },
  {
   "cell_type": "code",
   "execution_count": 7,
   "id": "397b811a-e80a-4a8f-9dae-33fa03857f10",
   "metadata": {},
   "outputs": [
    {
     "data": {
      "text/plain": [
       "{'name': 'Vova',\n",
       " 'strength': 9,\n",
       " 'perception': 4,\n",
       " 'endurance': 7,\n",
       " 'charisma': 5,\n",
       " 'intelligence': 5,\n",
       " 'agility': 4,\n",
       " 'luck': 2,\n",
       " 'damage': 315,\n",
       " 'speed': 23.5}"
      ]
     },
     "execution_count": 7,
     "metadata": {},
     "output_type": "execute_result"
    }
   ],
   "source": [
    "vars(goodie_vova)"
   ]
  },
  {
   "cell_type": "code",
   "execution_count": 8,
   "id": "48b7ad54-8056-438f-9875-9b498ba41fc3",
   "metadata": {},
   "outputs": [],
   "source": [
    "baddie_avov = Avov(\"Avov\", 7, 5, 2, 8, 7, 5, 1, 9000)"
   ]
  },
  {
   "cell_type": "code",
   "execution_count": 9,
   "id": "3a0d2624-b242-48d9-89a2-74ea1145532a",
   "metadata": {},
   "outputs": [
    {
     "data": {
      "text/plain": [
       "{'name': 'Avov',\n",
       " 'strength': 7,\n",
       " 'perception': 5,\n",
       " 'endurance': 2,\n",
       " 'charisma': 8,\n",
       " 'intelligence': 7,\n",
       " 'agility': 5,\n",
       " 'luck': 1,\n",
       " 'damage': 245,\n",
       " 'speed': 26.0,\n",
       " 'villianness': 9000}"
      ]
     },
     "execution_count": 9,
     "metadata": {},
     "output_type": "execute_result"
    }
   ],
   "source": [
    "vars(baddie_avov)"
   ]
  },
  {
   "cell_type": "code",
   "execution_count": 10,
   "id": "ea362219-aa78-4769-88b6-8f278ea91493",
   "metadata": {},
   "outputs": [
    {
     "name": "stdout",
     "output_type": "stream",
     "text": [
      "Да ну! Надо мне ещё с кем-то торговаться!\n",
      "Я украл деньги у торговца!\n"
     ]
    }
   ],
   "source": [
    "baddie_avov.trade()"
   ]
  },
  {
   "cell_type": "code",
   "execution_count": 11,
   "id": "a7ecad8f-7082-47ff-b29f-acdf0463e84b",
   "metadata": {},
   "outputs": [
    {
     "name": "stdout",
     "output_type": "stream",
     "text": [
      "Я атакую, нанося 315 урона!\n"
     ]
    }
   ],
   "source": [
    "goodie_vova.attack()"
   ]
  },
  {
   "cell_type": "code",
   "execution_count": 12,
   "id": "fb534523-ec36-42e9-894b-33cb568bd494",
   "metadata": {},
   "outputs": [
    {
     "name": "stdout",
     "output_type": "stream",
     "text": [
      "Я прошёл 190 метров со скоростью 23.5\n"
     ]
    }
   ],
   "source": [
    "goodie_vova.move(19)"
   ]
  },
  {
   "cell_type": "code",
   "execution_count": 13,
   "id": "15444586-5b47-457a-bc6a-ce4f676ec629",
   "metadata": {},
   "outputs": [
    {
     "name": "stdout",
     "output_type": "stream",
     "text": [
      "Я торгуюсь\n"
     ]
    }
   ],
   "source": [
    "goodie_vova.trade()"
   ]
  },
  {
   "cell_type": "code",
   "execution_count": 14,
   "id": "7bce02e0-779b-4068-98fd-c35d2930f6f1",
   "metadata": {},
   "outputs": [
    {
     "name": "stdout",
     "output_type": "stream",
     "text": [
      "Я подождал 8 с\n"
     ]
    }
   ],
   "source": [
    "goodie_vova.wait(8)"
   ]
  },
  {
   "cell_type": "code",
   "execution_count": 15,
   "id": "0c8d9afd-0e14-4ed7-9b0f-caf38315f2ca",
   "metadata": {},
   "outputs": [
    {
     "name": "stdout",
     "output_type": "stream",
     "text": [
      "5...\n",
      "4...\n",
      "3...\n",
      "2...\n",
      "1...\n",
      "Не стоило мне доверять красную кнопку. \n",
      "\n",
      " *Злодейский смех*\n"
     ]
    }
   ],
   "source": [
    "baddie_avov.blow_up_Megaton()"
   ]
  },
  {
   "cell_type": "code",
   "execution_count": 16,
   "id": "ebb10367-afe0-4254-9582-a9dd1326ad4b",
   "metadata": {},
   "outputs": [
    {
     "name": "stdout",
     "output_type": "stream",
     "text": [
      "Слишком далеко идти; мне лень\n"
     ]
    }
   ],
   "source": [
    "baddie_avov.move(199999)"
   ]
  },
  {
   "cell_type": "code",
   "execution_count": 17,
   "id": "197c15d8-6927-4e6f-bb49-a870c03b18e9",
   "metadata": {},
   "outputs": [
    {
     "name": "stdout",
     "output_type": "stream",
     "text": [
      "Я думаю 15 с\n",
      "Я подумал\n"
     ]
    }
   ],
   "source": [
    "goodie_vova.think()"
   ]
  },
  {
   "cell_type": "code",
   "execution_count": 18,
   "id": "1e8b3c11-6f91-4a4e-8967-b57c6bc798d6",
   "metadata": {},
   "outputs": [],
   "source": [
    "stupid_vova = Vova(\"Vooooooo\", 9, 9, 9, 8, 1, 1, 1)"
   ]
  },
  {
   "cell_type": "code",
   "execution_count": 19,
   "id": "36c3344f-263c-4e0a-adec-276a289fbdb3",
   "metadata": {},
   "outputs": [
    {
     "name": "stdout",
     "output_type": "stream",
     "text": [
      "ГЫ, я не умею думац\n"
     ]
    }
   ],
   "source": [
    "stupid_vova.think()"
   ]
  },
  {
   "cell_type": "code",
   "execution_count": 20,
   "id": "fd74c257-83be-4a9d-9f41-c98452c65ba0",
   "metadata": {},
   "outputs": [],
   "source": [
    "cheater_avov = Avov(\"|||REDACTED|||\", 10, 10, 10, 10, 10, 10, 10, 99999999)"
   ]
  },
  {
   "cell_type": "code",
   "execution_count": 21,
   "id": "98f09a17-692f-4ac8-9b9b-54314bb1a193",
   "metadata": {},
   "outputs": [
    {
     "name": "stdout",
     "output_type": "stream",
     "text": [
      "Я думаю 7 с\n",
      "Я подумал\n"
     ]
    }
   ],
   "source": [
    "cheater_avov.think()"
   ]
  },
  {
   "cell_type": "code",
   "execution_count": 22,
   "id": "c20a2d66-2500-4af6-80f9-3da43222e4e9",
   "metadata": {},
   "outputs": [
    {
     "name": "stdout",
     "output_type": "stream",
     "text": [
      "Я атакую, нанося 350 урона!\n"
     ]
    }
   ],
   "source": [
    "cheater_avov.attack()"
   ]
  },
  {
   "cell_type": "code",
   "execution_count": null,
   "id": "0bcf548a-5713-4026-971b-e9b6f6718b2f",
   "metadata": {},
   "outputs": [],
   "source": []
  }
 ],
 "metadata": {
  "kernelspec": {
   "display_name": "Python 3 (ipykernel)",
   "language": "python",
   "name": "python3"
  },
  "language_info": {
   "codemirror_mode": {
    "name": "ipython",
    "version": 3
   },
   "file_extension": ".py",
   "mimetype": "text/x-python",
   "name": "python",
   "nbconvert_exporter": "python",
   "pygments_lexer": "ipython3",
   "version": "3.11.5"
  }
 },
 "nbformat": 4,
 "nbformat_minor": 5
}
