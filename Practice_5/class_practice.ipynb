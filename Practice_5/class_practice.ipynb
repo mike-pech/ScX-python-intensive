{
 "cells": [
  {
   "cell_type": "code",
   "execution_count": 33,
   "id": "f49933c5-6b9e-4dac-9f93-7edcafd45bea",
   "metadata": {},
   "outputs": [],
   "source": [
    "import time"
   ]
  },
  {
   "cell_type": "code",
   "execution_count": 104,
   "id": "595ac8bc-6543-4066-ae37-bf02cb7fde7a",
   "metadata": {},
   "outputs": [],
   "source": [
    "class Character:\n",
    "\n",
    "    def __init__(self, name, strength, perception, endurance, charisma, intelligence, agility, luck):\n",
    "        self.name = name\n",
    "        self.strength = strength\n",
    "        self.perception = perception\n",
    "        self.endurance = endurance\n",
    "        self.charisma = charisma\n",
    "        self.intelligence = intelligence\n",
    "        self.agility = agility\n",
    "        self.luck = luck\n",
    "        self.damage = self.strength * 35\n",
    "\n",
    "    def trade(self):\n",
    "        print(\"Я торгуюсь\")\n",
    "\n",
    "    def wait(self, delay: int = 10):\n",
    "        time.sleep(delay)\n",
    "        print(f\"Я подождал {delay} с\")\n",
    "\n",
    "    def attack(self):\n",
    "        print(f\"Я атакую, нанося {self.damage} урона!\")\n",
    "\n",
    "    def move(self, distance = 10):\n",
    "        if distance > self.endurance * 10:\n",
    "            print(\"Слишком далеко идти; мне лень\")\n",
    "        else:\n",
    "            print(f\"Я прошёл {distance*10} метров\")"
   ]
  },
  {
   "cell_type": "code",
   "execution_count": 105,
   "id": "84d97c9a-23d3-4b45-8ddc-72e2407ab80a",
   "metadata": {},
   "outputs": [],
   "source": [
    "class Hero(Character):\n",
    "   \n",
    "    def save_vault_13(self):\n",
    "        print(\"Я нашёл водяной чип и спас убежище 13. Кайф)\")\n",
    "\n",
    "    def save_princess(self):\n",
    "        print(\"Извини, принцесса в другом замке! Так что тут мои полномочия всё\")"
   ]
  },
  {
   "cell_type": "code",
   "execution_count": 106,
   "id": "9e423710-49a4-4dd5-8ce2-52a0e0bd340c",
   "metadata": {},
   "outputs": [],
   "source": [
    "class Villain(Character):\n",
    "\n",
    "    def __init__(self, name, strength, perception, endurance, charisma, intelligence, agility, luck, villianness):\n",
    "        super().__init__(name, strength, perception, endurance, charisma, intelligence, agility, luck)\n",
    "        self.villianness = villianness\n",
    "    \n",
    "    def blow_up_Megaton(self):\n",
    "        for i in range(5, 0, -1):\n",
    "            print(f\"{i}...\")\n",
    "            time.sleep(1)\n",
    "        print(\"Не стоило мне доверять красную кнопку. \\n\\n *Злодейский смех*\")\n",
    "\n",
    "    def trade(self):\n",
    "        print(\"Да ну! Надо мне ещё с кем-то торговаться!\")\n",
    "        time.sleep(4)\n",
    "        print(\"Я украл деньги у торговца!\")"
   ]
  },
  {
   "cell_type": "code",
   "execution_count": 116,
   "id": "d6d4a324-837b-47dc-8f5b-d33aeead32e7",
   "metadata": {},
   "outputs": [],
   "source": [
    "class Vova(Hero):\n",
    "    pass\n",
    "\n",
    "class Avov(Villain):\n",
    "    pass"
   ]
  },
  {
   "cell_type": "code",
   "execution_count": 117,
   "id": "72e559cb-9736-4603-8c78-d45df571370d",
   "metadata": {},
   "outputs": [],
   "source": [
    "Vova = Vova(\"Vova\", 9, 4, 7, 5, 5, 4, 2)"
   ]
  },
  {
   "cell_type": "code",
   "execution_count": 118,
   "id": "397b811a-e80a-4a8f-9dae-33fa03857f10",
   "metadata": {},
   "outputs": [
    {
     "data": {
      "text/plain": [
       "{'name': 'Vova', 'strength': 9, 'perception': 4, 'endurance': 7, 'charisma': 5, 'intelligence': 5, 'agility': 4, 'luck': 2, 'damage': 315}"
      ]
     },
     "execution_count": 118,
     "metadata": {},
     "output_type": "execute_result"
    }
   ],
   "source": [
    "vars(Vova)"
   ]
  },
  {
   "cell_type": "code",
   "execution_count": 119,
   "id": "48b7ad54-8056-438f-9875-9b498ba41fc3",
   "metadata": {},
   "outputs": [],
   "source": [
    "Avov = Avov(\"Avov\", 7, 5, 2, 8, 7, 5, 1, 9000)"
   ]
  },
  {
   "cell_type": "code",
   "execution_count": 120,
   "id": "3a0d2624-b242-48d9-89a2-74ea1145532a",
   "metadata": {},
   "outputs": [
    {
     "data": {
      "text/plain": [
       "{'name': 'Avov', 'strength': 7, 'perception': 5, 'endurance': 2, 'charisma': 8, 'intelligence': 7, 'agility': 5, 'luck': 1, 'damage': 245, 'villianness': 9000}"
      ]
     },
     "execution_count": 120,
     "metadata": {},
     "output_type": "execute_result"
    }
   ],
   "source": [
    "vars(Avov)"
   ]
  },
  {
   "cell_type": "code",
   "execution_count": 121,
   "id": "ea362219-aa78-4769-88b6-8f278ea91493",
   "metadata": {},
   "outputs": [
    {
     "name": "stdout",
     "output_type": "stream",
     "text": [
      "Да ну! Надо мне ещё с кем-то торговаться!\n",
      "Я украл деньги у торговца!\n"
     ]
    }
   ],
   "source": [
    "Avov.trade()"
   ]
  },
  {
   "cell_type": "code",
   "execution_count": 122,
   "id": "a7ecad8f-7082-47ff-b29f-acdf0463e84b",
   "metadata": {},
   "outputs": [
    {
     "name": "stdout",
     "output_type": "stream",
     "text": [
      "Я атакую, нанося 315 урона!\n"
     ]
    }
   ],
   "source": [
    "Vova.attack()"
   ]
  },
  {
   "cell_type": "code",
   "execution_count": 123,
   "id": "fb534523-ec36-42e9-894b-33cb568bd494",
   "metadata": {},
   "outputs": [
    {
     "name": "stdout",
     "output_type": "stream",
     "text": [
      "Я прошёл 190 метров\n"
     ]
    }
   ],
   "source": [
    "Vova.move(19)"
   ]
  },
  {
   "cell_type": "code",
   "execution_count": 124,
   "id": "15444586-5b47-457a-bc6a-ce4f676ec629",
   "metadata": {},
   "outputs": [
    {
     "name": "stdout",
     "output_type": "stream",
     "text": [
      "Я торгуюсь\n"
     ]
    }
   ],
   "source": [
    "Vova.trade()"
   ]
  },
  {
   "cell_type": "code",
   "execution_count": 127,
   "id": "7bce02e0-779b-4068-98fd-c35d2930f6f1",
   "metadata": {},
   "outputs": [
    {
     "name": "stdout",
     "output_type": "stream",
     "text": [
      "Я подождал 8 с\n"
     ]
    }
   ],
   "source": [
    "Vova.wait(8)"
   ]
  },
  {
   "cell_type": "code",
   "execution_count": 125,
   "id": "0c8d9afd-0e14-4ed7-9b0f-caf38315f2ca",
   "metadata": {},
   "outputs": [
    {
     "name": "stdout",
     "output_type": "stream",
     "text": [
      "5...\n",
      "4...\n",
      "3...\n",
      "2...\n",
      "1...\n",
      "Не стоило мне доверять красную кнопку. \n",
      "\n",
      " *Злодейский смех*\n"
     ]
    }
   ],
   "source": [
    "Avov.blow_up_Megaton()"
   ]
  },
  {
   "cell_type": "code",
   "execution_count": 126,
   "id": "ebb10367-afe0-4254-9582-a9dd1326ad4b",
   "metadata": {},
   "outputs": [
    {
     "name": "stdout",
     "output_type": "stream",
     "text": [
      "Слишком далеко идти; мне лень\n"
     ]
    }
   ],
   "source": [
    "Avov.move(199999)"
   ]
  },
  {
   "cell_type": "code",
   "execution_count": null,
   "id": "197c15d8-6927-4e6f-bb49-a870c03b18e9",
   "metadata": {},
   "outputs": [],
   "source": []
  }
 ],
 "metadata": {
  "kernelspec": {
   "display_name": "Python 3 (ipykernel)",
   "language": "python",
   "name": "python3"
  },
  "language_info": {
   "codemirror_mode": {
    "name": "ipython",
    "version": 3
   },
   "file_extension": ".py",
   "mimetype": "text/x-python",
   "name": "python",
   "nbconvert_exporter": "python",
   "pygments_lexer": "ipython3",
   "version": "3.11.5"
  }
 },
 "nbformat": 4,
 "nbformat_minor": 5
}
