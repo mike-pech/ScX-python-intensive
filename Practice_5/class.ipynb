{
 "cells": [
  {
   "cell_type": "code",
   "execution_count": 76,
   "id": "9ca5b177-2b63-4c9b-889c-a75845d3209b",
   "metadata": {},
   "outputs": [],
   "source": [
    "class Human:\n",
    "    \n",
    "    def __init__(\n",
    "        self, \n",
    "        weight: float | int = 80, \n",
    "        height: float | int = 170, \n",
    "        name: None | str = \"Вова\",\n",
    "        iq: int = 100\n",
    "    ):       \n",
    "        self.weight = weight\n",
    "        self.height = height\n",
    "        self.name = name\n",
    "        self.iq = iq\n",
    "    \n",
    "    # weight = 90\n",
    "    # height = 190\n",
    "    # name = 'Вован'\n",
    "    \n",
    "    def walk(self, speed: float = 1.0):\n",
    "        print(f'{self.name} идёт со скоростью {speed}')\n",
    "        \n",
    "    def run(self, speed: float = 5.5):\n",
    "        if self.weight > 110:\n",
    "            print(\"Я не могу бежать\")\n",
    "        else:\n",
    "            print(f'{self.name} БЕЖИТ СО СКОРОСТЬЮ {speed}!')\n",
    "        \n",
    "    def breathe(self):\n",
    "        if self.height > 200:\n",
    "            print(\"Тут наверху трудно дышать!\")\n",
    "        elif self.weight >= 180:\n",
    "            print(\"Мне просто трудно дышать\")\n",
    "        elif self.iq < 60:\n",
    "            print(\"А как дышать?\")\n",
    "        else:\n",
    "            print('Я дышу')\n",
    "        "
   ]
  },
  {
   "cell_type": "code",
   "execution_count": 77,
   "id": "4be7b59a-710b-47ab-8f0a-d035a26ed4fa",
   "metadata": {},
   "outputs": [],
   "source": [
    "vova1 = Human(\n",
    "    height=190,\n",
    "    weight=90,\n",
    "    name=\"Вован\",\n",
    ")"
   ]
  },
  {
   "cell_type": "code",
   "execution_count": 78,
   "id": "5ec76d2c-99e0-4b9e-98e2-07dc4769f73c",
   "metadata": {},
   "outputs": [
    {
     "data": {
      "text/plain": [
       "'Вован'"
      ]
     },
     "execution_count": 78,
     "metadata": {},
     "output_type": "execute_result"
    }
   ],
   "source": [
    "vova1.name\n",
    "# Скобочки для вывода свойств объектов не нужны"
   ]
  },
  {
   "cell_type": "code",
   "execution_count": 79,
   "id": "6966c4af-3ded-4e60-8132-8ca85e25b902",
   "metadata": {},
   "outputs": [],
   "source": [
    "vova1.name = \"Володя\""
   ]
  },
  {
   "cell_type": "code",
   "execution_count": 80,
   "id": "c008cbba-c840-49fb-bd32-06909b0d862a",
   "metadata": {},
   "outputs": [
    {
     "data": {
      "text/plain": [
       "'Володя'"
      ]
     },
     "execution_count": 80,
     "metadata": {},
     "output_type": "execute_result"
    }
   ],
   "source": [
    "vova1.name"
   ]
  },
  {
   "cell_type": "code",
   "execution_count": 81,
   "id": "939ed345-6e5e-45aa-b36e-3c9753d0e3d7",
   "metadata": {},
   "outputs": [],
   "source": [
    "vova2 = Human(\n",
    "    height=170,\n",
    "    weight=220,\n",
    "    name=\"Вовка\",\n",
    ")"
   ]
  },
  {
   "cell_type": "code",
   "execution_count": 82,
   "id": "90a1ccfd-e5fa-4425-b6d5-097410e4f4c5",
   "metadata": {},
   "outputs": [
    {
     "name": "stdout",
     "output_type": "stream",
     "text": [
      "Я не могу бежать\n"
     ]
    }
   ],
   "source": [
    "vova2.run()"
   ]
  },
  {
   "cell_type": "code",
   "execution_count": 83,
   "id": "f1a491b4-ccc1-4bd5-9d0a-915b693fb2a7",
   "metadata": {},
   "outputs": [
    {
     "data": {
      "text/plain": [
       "220"
      ]
     },
     "execution_count": 83,
     "metadata": {},
     "output_type": "execute_result"
    }
   ],
   "source": [
    "vova2.weight"
   ]
  },
  {
   "cell_type": "code",
   "execution_count": 84,
   "id": "75cfa991-363c-4cc9-8346-fa9b4bb45a97",
   "metadata": {},
   "outputs": [],
   "source": [
    "vova3 = Human(height=300, weight=90)\n",
    "vova4 = Human(height=180, weight=400)\n",
    "vova5 = Human(iq=10)"
   ]
  },
  {
   "cell_type": "code",
   "execution_count": 87,
   "id": "3803e307-1e4b-4caf-9026-f517a7b2295f",
   "metadata": {},
   "outputs": [
    {
     "name": "stdout",
     "output_type": "stream",
     "text": [
      "VOVA 3\n",
      "Вова идёт со скоростью 1.0\n",
      "Вова БЕЖИТ СО СКОРОСТЬЮ 5.5!\n",
      "Тут наверху трудно дышать!\n",
      "----------------------------\n",
      "VOVA 4\n",
      "Вова идёт со скоростью 1.0\n",
      "Я не могу бежать\n",
      "Мне просто трудно дышать\n",
      "----------------------------\n",
      "VOVA 5\n",
      "Вова идёт со скоростью 1.0\n",
      "Вова БЕЖИТ СО СКОРОСТЬЮ 5.5!\n",
      "А как дышать?\n",
      "----------------------------\n"
     ]
    }
   ],
   "source": [
    "for index_vova, local_vova in enumerate([vova3, vova4, vova5]):\n",
    "    index_vova += 3\n",
    "    print(\"VOVA\", index_vova)\n",
    "    local_vova.walk()\n",
    "    local_vova.run()\n",
    "    local_vova.breathe()\n",
    "    print(\"-\" * 28)"
   ]
  },
  {
   "cell_type": "code",
   "execution_count": 116,
   "id": "cc6b288f-1599-46de-a4da-da974df324f3",
   "metadata": {},
   "outputs": [],
   "source": [
    "class HumanWorker(Human):\n",
    "    \n",
    "    def work(self):\n",
    "        print(\"Я работаю\")\n",
    "\n",
    "    def breathe(self):\n",
    "        print(\"Я не могу дышать. Я работаю!\")\n",
    "\n",
    "    def run(self, speed: float):\n",
    "        print(\"Я не могу бегать на складе!\")"
   ]
  },
  {
   "cell_type": "code",
   "execution_count": 117,
   "id": "13ab53c4-7eaa-4538-8c3c-b60173b03cab",
   "metadata": {},
   "outputs": [],
   "source": [
    "working_vova = HumanWorker()"
   ]
  },
  {
   "cell_type": "code",
   "execution_count": 118,
   "id": "6dc6762c-43e2-40bf-89d7-4b152aace337",
   "metadata": {},
   "outputs": [
    {
     "name": "stdout",
     "output_type": "stream",
     "text": [
      "Вова идёт со скоростью 4\n"
     ]
    }
   ],
   "source": [
    "working_vova.walk(4)"
   ]
  },
  {
   "cell_type": "code",
   "execution_count": 119,
   "id": "d5f09405-59da-4751-99c7-c1ef7781315f",
   "metadata": {},
   "outputs": [
    {
     "name": "stdout",
     "output_type": "stream",
     "text": [
      "Я не могу дышать. Я работаю!\n"
     ]
    }
   ],
   "source": [
    "working_vova.breathe()"
   ]
  },
  {
   "cell_type": "code",
   "execution_count": 120,
   "id": "3d91e2b2-cc66-48c7-b970-8339e1e941b6",
   "metadata": {},
   "outputs": [
    {
     "name": "stdout",
     "output_type": "stream",
     "text": [
      "Я не могу бегать на складе!\n"
     ]
    }
   ],
   "source": [
    "working_vova.run(10)"
   ]
  },
  {
   "cell_type": "code",
   "execution_count": 122,
   "id": "2feb52e0-4133-4419-a427-fc1602503e46",
   "metadata": {},
   "outputs": [
    {
     "name": "stdout",
     "output_type": "stream",
     "text": [
      "{'weight': 90, 'height': 190, 'name': 'Володя', 'iq': 100}\n"
     ]
    }
   ],
   "source": [
    "print(vars(vova1))"
   ]
  },
  {
   "cell_type": "code",
   "execution_count": 123,
   "id": "752707f8-a384-42a0-b6f8-6e35c85f734a",
   "metadata": {},
   "outputs": [
    {
     "data": {
      "text/plain": [
       "{'weight': 400, 'height': 180, 'name': 'Вова', 'iq': 100}"
      ]
     },
     "execution_count": 123,
     "metadata": {},
     "output_type": "execute_result"
    }
   ],
   "source": [
    "vars(vova4)"
   ]
  },
  {
   "cell_type": "code",
   "execution_count": 124,
   "id": "7d3c9252-915c-4723-8e28-051b7dd64baf",
   "metadata": {},
   "outputs": [
    {
     "data": {
      "text/plain": [
       "{'weight': 80, 'height': 170, 'name': 'Вова', 'iq': 10}"
      ]
     },
     "execution_count": 124,
     "metadata": {},
     "output_type": "execute_result"
    }
   ],
   "source": [
    "vars(vova5)"
   ]
  },
  {
   "cell_type": "code",
   "execution_count": 125,
   "id": "a1a95b3d-ac17-45fc-b9fc-02b8b9c41912",
   "metadata": {},
   "outputs": [
    {
     "data": {
      "text/plain": [
       "{'weight': 80, 'height': 170, 'name': 'Вова', 'iq': 100}"
      ]
     },
     "execution_count": 125,
     "metadata": {},
     "output_type": "execute_result"
    }
   ],
   "source": [
    "vars(working_vova)"
   ]
  },
  {
   "cell_type": "code",
   "execution_count": null,
   "id": "8b2bb5d6-cc2b-4501-971d-c40027b999fb",
   "metadata": {},
   "outputs": [],
   "source": []
  }
 ],
 "metadata": {
  "kernelspec": {
   "display_name": "Python 3 (ipykernel)",
   "language": "python",
   "name": "python3"
  },
  "language_info": {
   "codemirror_mode": {
    "name": "ipython",
    "version": 3
   },
   "file_extension": ".py",
   "mimetype": "text/x-python",
   "name": "python",
   "nbconvert_exporter": "python",
   "pygments_lexer": "ipython3",
   "version": "3.11.5"
  }
 },
 "nbformat": 4,
 "nbformat_minor": 5
}
