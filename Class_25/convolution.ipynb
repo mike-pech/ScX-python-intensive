{
 "cells": [
  {
   "cell_type": "code",
   "execution_count": 4,
   "metadata": {},
   "outputs": [
    {
     "name": "stdout",
     "output_type": "stream",
     "text": [
      "Note: you may need to restart the kernel to use updated packages.\n"
     ]
    }
   ],
   "source": [
    "pip install -Uq torch torchvision"
   ]
  },
  {
   "cell_type": "code",
   "execution_count": 10,
   "metadata": {},
   "outputs": [],
   "source": [
    "import torch\n",
    "from torchvision.transforms import transforms"
   ]
  },
  {
   "cell_type": "code",
   "execution_count": 14,
   "metadata": {},
   "outputs": [
    {
     "data": {
      "text/plain": [
       "torch.Size([3, 356, 634])"
      ]
     },
     "execution_count": 14,
     "metadata": {},
     "output_type": "execute_result"
    }
   ],
   "source": [
    "from torchvision.io import read_image\n",
    "\n",
    "image = read_image(\"./dude.png\")\n",
    "image.shape"
   ]
  },
  {
   "cell_type": "code",
   "execution_count": 15,
   "metadata": {},
   "outputs": [
    {
     "data": {
      "text/plain": [
       "tensor([1.7462, 0.3891, 0.9892, 1.0864, 1.0430])"
      ]
     },
     "execution_count": 15,
     "metadata": {},
     "output_type": "execute_result"
    }
   ],
   "source": [
    "a = torch.rand(5)\n",
    "\n",
    "f_t = transforms.Lambda(lambda x: x * 2)\n",
    "f_t(a)"
   ]
  },
  {
   "cell_type": "code",
   "execution_count": 12,
   "metadata": {},
   "outputs": [],
   "source": [
    "transforms.ToPILImage()"
   ]
  },
  {
   "cell_type": "code",
   "execution_count": 26,
   "metadata": {},
   "outputs": [
    {
     "data": {
      "text/plain": [
       "ToPILImage()"
      ]
     },
     "execution_count": 26,
     "metadata": {},
     "output_type": "execute_result"
    }
   ],
   "source": [
    "f_t1 = transforms.Compose([\n",
    "    transforms.ToPILImage(),\n",
    "    transforms.Resize((178, 317)),\n",
    "    transforms.PILToTensor()\n",
    "])\n",
    "f_t1(image)\n",
    "transforms.ToPILImage()"
   ]
  },
  {
   "cell_type": "code",
   "execution_count": 19,
   "metadata": {},
   "outputs": [],
   "source": [
    "from torch.utils.data import Dataset\n",
    "import pathlib"
   ]
  },
  {
   "cell_type": "code",
   "execution_count": 23,
   "metadata": {},
   "outputs": [],
   "source": [
    "class DudeDataset(Dataset):\n",
    "    def __init__(self, path_dataset: pathlib.Path, data_list, data_class, transform_func):\n",
    "        self.path_dataset = path_dataset                                                    # Путь к папке указывается отдельно для каждого инстанса датасета\n",
    "        self.data_list = [_ for _ in self.path_dataset.glob(\"**/*\") if _.is_file()]         # Список файлов\n",
    "        self.data_class = list(set(_.parent for _ in self.data_list))                       # Классификация файлов на основе родительских директорий \"latin/a/sdnajksdjakdbkakwd.png\"\n",
    "        self.transform_func = transforms.Compose([\n",
    "                            transforms.ToPILImage(),\n",
    "                            transforms.Grayscale(),                                         # оптимизируем обучеие, т.к. картинки всё равно ч/б\n",
    "                            transforms.Resize((178, 317)),\n",
    "                            transforms.PILToTensor()\n",
    "                            ])\n",
    "\n",
    "    def __len__(self):\n",
    "        return len(self.data_list)\n",
    "\n",
    "    def __getitem__(self, index):\n",
    "        img_path = self.data_list[index]\n",
    "        img_label = torch.zeros(len(self.data_class))\n",
    "        img_label[self.data_class.index(img_path.parent)] = 1.0"
   ]
  },
  {
   "cell_type": "code",
   "execution_count": 24,
   "metadata": {},
   "outputs": [
    {
     "data": {
      "text/plain": [
       "[PosixPath('convolution.ipynb'), PosixPath('dude.png')]"
      ]
     },
     "execution_count": 24,
     "metadata": {},
     "output_type": "execute_result"
    }
   ],
   "source": [
    "path_dataset = pathlib.Path(\"./\")\n",
    "[_ for _ in path_dataset.glob(\"**/*\") if _.is_file()]"
   ]
  },
  {
   "cell_type": "code",
   "execution_count": null,
   "metadata": {},
   "outputs": [],
   "source": []
  }
 ],
 "metadata": {
  "kernelspec": {
   "display_name": "Python 3",
   "language": "python",
   "name": "python3"
  },
  "language_info": {
   "codemirror_mode": {
    "name": "ipython",
    "version": 3
   },
   "file_extension": ".py",
   "mimetype": "text/x-python",
   "name": "python",
   "nbconvert_exporter": "python",
   "pygments_lexer": "ipython3",
   "version": "3.10.12"
  }
 },
 "nbformat": 4,
 "nbformat_minor": 2
}
