{
 "cells": [
  {
   "cell_type": "code",
   "execution_count": 2,
   "metadata": {},
   "outputs": [],
   "source": [
    "# pip install torch pandas"
   ]
  },
  {
   "cell_type": "code",
   "execution_count": 3,
   "metadata": {},
   "outputs": [],
   "source": [
    "import torch\n",
    "import torch.nn as nn"
   ]
  },
  {
   "cell_type": "code",
   "execution_count": 11,
   "metadata": {},
   "outputs": [],
   "source": [
    "a = torch.IntTensor([1, 1, 2, 3, 4])        # Инициализация вектора (не торч, просто вектор дунул)"
   ]
  },
  {
   "cell_type": "code",
   "execution_count": 7,
   "metadata": {},
   "outputs": [
    {
     "data": {
      "text/plain": [
       "tensor([ 1,  1,  8, 15, 24], dtype=torch.int32)"
      ]
     },
     "execution_count": 7,
     "metadata": {},
     "output_type": "execute_result"
    }
   ],
   "source": [
    "b = torch.IntTensor([1, 1, 4, 5, 6])\n",
    "a * b"
   ]
  },
  {
   "cell_type": "code",
   "execution_count": 8,
   "metadata": {},
   "outputs": [
    {
     "data": {
      "text/plain": [
       "tensor(49, dtype=torch.int32)"
      ]
     },
     "execution_count": 8,
     "metadata": {},
     "output_type": "execute_result"
    }
   ],
   "source": [
    "torch.dot(a, b)"
   ]
  },
  {
   "cell_type": "code",
   "execution_count": 13,
   "metadata": {},
   "outputs": [
    {
     "name": "stdout",
     "output_type": "stream",
     "text": [
      "tensor([[0.1660, 0.1664, 0.1163, 0.0039],\n",
      "        [0.0381, 0.0382, 0.0267, 0.0009],\n",
      "        [0.4115, 0.4124, 0.2882, 0.0097],\n",
      "        [0.0972, 0.0974, 0.0681, 0.0023]])\n"
     ]
    }
   ],
   "source": [
    "a = torch.rand((1, 4))      # Генерирует рандомный вектор размерностью (1, 4)\n",
    "b = torch.rand((4, 1))\n",
    "p = a * b\n",
    "print(p)"
   ]
  },
  {
   "cell_type": "code",
   "execution_count": 14,
   "metadata": {},
   "outputs": [
    {
     "data": {
      "text/plain": [
       "torch.Size([4, 4])"
      ]
     },
     "execution_count": 14,
     "metadata": {},
     "output_type": "execute_result"
    }
   ],
   "source": [
    "p.shape     # Свойство размерности тензора"
   ]
  },
  {
   "cell_type": "code",
   "execution_count": 15,
   "metadata": {},
   "outputs": [
    {
     "data": {
      "text/plain": [
       "torch.Size([1, 4, 4])"
      ]
     },
     "execution_count": 15,
     "metadata": {},
     "output_type": "execute_result"
    }
   ],
   "source": [
    "p[None, :].shape    # Добавили новое измерение заполненое None"
   ]
  },
  {
   "cell_type": "code",
   "execution_count": 17,
   "metadata": {},
   "outputs": [
    {
     "name": "stdout",
     "output_type": "stream",
     "text": [
      "torch.Size([1, 4])\n",
      "torch.Size([4, 1])\n"
     ]
    }
   ],
   "source": [
    "print(a.shape)\n",
    "print(a.view(-1, 1).shape)      # Транспонировать лучше через метод view. Он точнее T"
   ]
  },
  {
   "cell_type": "markdown",
   "metadata": {},
   "source": [
    "# А теперь напишем нейронку!"
   ]
  },
  {
   "cell_type": "code",
   "execution_count": 18,
   "metadata": {},
   "outputs": [],
   "source": [
    "import pandas as pd"
   ]
  },
  {
   "cell_type": "code",
   "execution_count": 19,
   "metadata": {},
   "outputs": [
    {
     "data": {
      "text/html": [
       "<div>\n",
       "<style scoped>\n",
       "    .dataframe tbody tr th:only-of-type {\n",
       "        vertical-align: middle;\n",
       "    }\n",
       "\n",
       "    .dataframe tbody tr th {\n",
       "        vertical-align: top;\n",
       "    }\n",
       "\n",
       "    .dataframe thead th {\n",
       "        text-align: right;\n",
       "    }\n",
       "</style>\n",
       "<table border=\"1\" class=\"dataframe\">\n",
       "  <thead>\n",
       "    <tr style=\"text-align: right;\">\n",
       "      <th></th>\n",
       "      <th>sepal.length</th>\n",
       "      <th>sepal.width</th>\n",
       "      <th>petal.length</th>\n",
       "      <th>petal.width</th>\n",
       "      <th>variety</th>\n",
       "    </tr>\n",
       "  </thead>\n",
       "  <tbody>\n",
       "    <tr>\n",
       "      <th>0</th>\n",
       "      <td>5.1</td>\n",
       "      <td>3.5</td>\n",
       "      <td>1.4</td>\n",
       "      <td>0.2</td>\n",
       "      <td>Setosa</td>\n",
       "    </tr>\n",
       "    <tr>\n",
       "      <th>1</th>\n",
       "      <td>4.9</td>\n",
       "      <td>3.0</td>\n",
       "      <td>1.4</td>\n",
       "      <td>0.2</td>\n",
       "      <td>Setosa</td>\n",
       "    </tr>\n",
       "    <tr>\n",
       "      <th>2</th>\n",
       "      <td>4.7</td>\n",
       "      <td>3.2</td>\n",
       "      <td>1.3</td>\n",
       "      <td>0.2</td>\n",
       "      <td>Setosa</td>\n",
       "    </tr>\n",
       "    <tr>\n",
       "      <th>3</th>\n",
       "      <td>4.6</td>\n",
       "      <td>3.1</td>\n",
       "      <td>1.5</td>\n",
       "      <td>0.2</td>\n",
       "      <td>Setosa</td>\n",
       "    </tr>\n",
       "    <tr>\n",
       "      <th>4</th>\n",
       "      <td>5.0</td>\n",
       "      <td>3.6</td>\n",
       "      <td>1.4</td>\n",
       "      <td>0.2</td>\n",
       "      <td>Setosa</td>\n",
       "    </tr>\n",
       "  </tbody>\n",
       "</table>\n",
       "</div>"
      ],
      "text/plain": [
       "   sepal.length  sepal.width  petal.length  petal.width variety\n",
       "0           5.1          3.5           1.4          0.2  Setosa\n",
       "1           4.9          3.0           1.4          0.2  Setosa\n",
       "2           4.7          3.2           1.3          0.2  Setosa\n",
       "3           4.6          3.1           1.5          0.2  Setosa\n",
       "4           5.0          3.6           1.4          0.2  Setosa"
      ]
     },
     "execution_count": 19,
     "metadata": {},
     "output_type": "execute_result"
    }
   ],
   "source": [
    "df = pd.read_csv(\"iris.csv\")\n",
    "df.head()"
   ]
  },
  {
   "cell_type": "code",
   "execution_count": 21,
   "metadata": {},
   "outputs": [
    {
     "data": {
      "text/plain": [
       "array(['Setosa', 'Versicolor', 'Virginica'], dtype=object)"
      ]
     },
     "execution_count": 21,
     "metadata": {},
     "output_type": "execute_result"
    }
   ],
   "source": [
    "df[\"variety\"].unique()"
   ]
  },
  {
   "cell_type": "code",
   "execution_count": 24,
   "metadata": {},
   "outputs": [
    {
     "ename": "ValueError",
     "evalue": "NumPy boolean array indexing assignment cannot assign 3 input values to the 50 output values where the mask is true",
     "output_type": "error",
     "traceback": [
      "\u001b[0;31m---------------------------------------------------------------------------\u001b[0m",
      "\u001b[0;31mValueError\u001b[0m                                Traceback (most recent call last)",
      "\u001b[1;32m/home/mickey-pech/Python/ScX-python-intensive/Class_17/torch.ipynb Cell 14\u001b[0m line \u001b[0;36m1\n\u001b[0;32m----> <a href='vscode-notebook-cell://wsl%2Bubuntu/home/mickey-pech/Python/ScX-python-intensive/Class_17/torch.ipynb#X15sdnNjb2RlLXJlbW90ZQ%3D%3D?line=0'>1</a>\u001b[0m df[\u001b[39m\"\u001b[39m\u001b[39mvariety\u001b[39m\u001b[39m\"\u001b[39m] \u001b[39m=\u001b[39m df[\u001b[39m\"\u001b[39;49m\u001b[39mvariety\u001b[39;49m\u001b[39m\"\u001b[39;49m]\u001b[39m.\u001b[39;49mreplace({\u001b[39m\"\u001b[39;49m\u001b[39mSetosa\u001b[39;49m\u001b[39m\"\u001b[39;49m: ([\u001b[39m1\u001b[39;49m, \u001b[39m0\u001b[39;49m, \u001b[39m0\u001b[39;49m]), \u001b[39m\"\u001b[39;49m\u001b[39mVersicolor\u001b[39;49m\u001b[39m\"\u001b[39;49m: ([\u001b[39m0\u001b[39;49m, \u001b[39m1\u001b[39;49m, \u001b[39m0\u001b[39;49m]), \u001b[39m\"\u001b[39;49m\u001b[39mVirginica\u001b[39;49m\u001b[39m\"\u001b[39;49m: ([\u001b[39m0\u001b[39;49m, \u001b[39m0\u001b[39;49m, \u001b[39m1\u001b[39;49m])})\n",
      "File \u001b[0;32m~/.local/lib/python3.10/site-packages/pandas/core/generic.py:7819\u001b[0m, in \u001b[0;36mNDFrame.replace\u001b[0;34m(self, to_replace, value, inplace, limit, regex, method)\u001b[0m\n\u001b[1;32m   7816\u001b[0m     \u001b[39melse\u001b[39;00m:\n\u001b[1;32m   7817\u001b[0m         to_replace, value \u001b[39m=\u001b[39m keys, values\n\u001b[0;32m-> 7819\u001b[0m     \u001b[39mreturn\u001b[39;00m \u001b[39mself\u001b[39;49m\u001b[39m.\u001b[39;49mreplace(\n\u001b[1;32m   7820\u001b[0m         to_replace, value, inplace\u001b[39m=\u001b[39;49minplace, limit\u001b[39m=\u001b[39;49mlimit, regex\u001b[39m=\u001b[39;49mregex\n\u001b[1;32m   7821\u001b[0m     )\n\u001b[1;32m   7822\u001b[0m \u001b[39melse\u001b[39;00m:\n\u001b[1;32m   7823\u001b[0m     \u001b[39m# need a non-zero len on all axes\u001b[39;00m\n\u001b[1;32m   7824\u001b[0m     \u001b[39mif\u001b[39;00m \u001b[39mnot\u001b[39;00m \u001b[39mself\u001b[39m\u001b[39m.\u001b[39msize:\n",
      "File \u001b[0;32m~/.local/lib/python3.10/site-packages/pandas/core/generic.py:7867\u001b[0m, in \u001b[0;36mNDFrame.replace\u001b[0;34m(self, to_replace, value, inplace, limit, regex, method)\u001b[0m\n\u001b[1;32m   7862\u001b[0m     \u001b[39mif\u001b[39;00m \u001b[39mlen\u001b[39m(to_replace) \u001b[39m!=\u001b[39m \u001b[39mlen\u001b[39m(value):\n\u001b[1;32m   7863\u001b[0m         \u001b[39mraise\u001b[39;00m \u001b[39mValueError\u001b[39;00m(\n\u001b[1;32m   7864\u001b[0m             \u001b[39mf\u001b[39m\u001b[39m\"\u001b[39m\u001b[39mReplacement lists must match in length. \u001b[39m\u001b[39m\"\u001b[39m\n\u001b[1;32m   7865\u001b[0m             \u001b[39mf\u001b[39m\u001b[39m\"\u001b[39m\u001b[39mExpecting \u001b[39m\u001b[39m{\u001b[39;00m\u001b[39mlen\u001b[39m(to_replace)\u001b[39m}\u001b[39;00m\u001b[39m got \u001b[39m\u001b[39m{\u001b[39;00m\u001b[39mlen\u001b[39m(value)\u001b[39m}\u001b[39;00m\u001b[39m \u001b[39m\u001b[39m\"\u001b[39m\n\u001b[1;32m   7866\u001b[0m         )\n\u001b[0;32m-> 7867\u001b[0m     new_data \u001b[39m=\u001b[39m \u001b[39mself\u001b[39;49m\u001b[39m.\u001b[39;49m_mgr\u001b[39m.\u001b[39;49mreplace_list(\n\u001b[1;32m   7868\u001b[0m         src_list\u001b[39m=\u001b[39;49mto_replace,\n\u001b[1;32m   7869\u001b[0m         dest_list\u001b[39m=\u001b[39;49mvalue,\n\u001b[1;32m   7870\u001b[0m         inplace\u001b[39m=\u001b[39;49minplace,\n\u001b[1;32m   7871\u001b[0m         regex\u001b[39m=\u001b[39;49mregex,\n\u001b[1;32m   7872\u001b[0m     )\n\u001b[1;32m   7874\u001b[0m \u001b[39melif\u001b[39;00m to_replace \u001b[39mis\u001b[39;00m \u001b[39mNone\u001b[39;00m:\n\u001b[1;32m   7875\u001b[0m     \u001b[39mif\u001b[39;00m \u001b[39mnot\u001b[39;00m (\n\u001b[1;32m   7876\u001b[0m         is_re_compilable(regex)\n\u001b[1;32m   7877\u001b[0m         \u001b[39mor\u001b[39;00m is_list_like(regex)\n\u001b[1;32m   7878\u001b[0m         \u001b[39mor\u001b[39;00m is_dict_like(regex)\n\u001b[1;32m   7879\u001b[0m     ):\n",
      "File \u001b[0;32m~/.local/lib/python3.10/site-packages/pandas/core/internals/base.py:253\u001b[0m, in \u001b[0;36mDataManager.replace_list\u001b[0;34m(self, src_list, dest_list, inplace, regex)\u001b[0m\n\u001b[1;32m    250\u001b[0m \u001b[39m\u001b[39m\u001b[39m\"\"\"do a list replace\"\"\"\u001b[39;00m\n\u001b[1;32m    251\u001b[0m inplace \u001b[39m=\u001b[39m validate_bool_kwarg(inplace, \u001b[39m\"\u001b[39m\u001b[39minplace\u001b[39m\u001b[39m\"\u001b[39m)\n\u001b[0;32m--> 253\u001b[0m bm \u001b[39m=\u001b[39m \u001b[39mself\u001b[39;49m\u001b[39m.\u001b[39;49mapply_with_block(\n\u001b[1;32m    254\u001b[0m     \u001b[39m\"\u001b[39;49m\u001b[39mreplace_list\u001b[39;49m\u001b[39m\"\u001b[39;49m,\n\u001b[1;32m    255\u001b[0m     src_list\u001b[39m=\u001b[39;49msrc_list,\n\u001b[1;32m    256\u001b[0m     dest_list\u001b[39m=\u001b[39;49mdest_list,\n\u001b[1;32m    257\u001b[0m     inplace\u001b[39m=\u001b[39;49minplace,\n\u001b[1;32m    258\u001b[0m     regex\u001b[39m=\u001b[39;49mregex,\n\u001b[1;32m    259\u001b[0m     using_cow\u001b[39m=\u001b[39;49musing_copy_on_write(),\n\u001b[1;32m    260\u001b[0m )\n\u001b[1;32m    261\u001b[0m bm\u001b[39m.\u001b[39m_consolidate_inplace()\n\u001b[1;32m    262\u001b[0m \u001b[39mreturn\u001b[39;00m bm\n",
      "File \u001b[0;32m~/.local/lib/python3.10/site-packages/pandas/core/internals/managers.py:354\u001b[0m, in \u001b[0;36mBaseBlockManager.apply\u001b[0;34m(self, f, align_keys, **kwargs)\u001b[0m\n\u001b[1;32m    352\u001b[0m         applied \u001b[39m=\u001b[39m b\u001b[39m.\u001b[39mapply(f, \u001b[39m*\u001b[39m\u001b[39m*\u001b[39mkwargs)\n\u001b[1;32m    353\u001b[0m     \u001b[39melse\u001b[39;00m:\n\u001b[0;32m--> 354\u001b[0m         applied \u001b[39m=\u001b[39m \u001b[39mgetattr\u001b[39;49m(b, f)(\u001b[39m*\u001b[39;49m\u001b[39m*\u001b[39;49mkwargs)\n\u001b[1;32m    355\u001b[0m     result_blocks \u001b[39m=\u001b[39m extend_blocks(applied, result_blocks)\n\u001b[1;32m    357\u001b[0m out \u001b[39m=\u001b[39m \u001b[39mtype\u001b[39m(\u001b[39mself\u001b[39m)\u001b[39m.\u001b[39mfrom_blocks(result_blocks, \u001b[39mself\u001b[39m\u001b[39m.\u001b[39maxes)\n",
      "File \u001b[0;32m~/.local/lib/python3.10/site-packages/pandas/core/internals/blocks.py:892\u001b[0m, in \u001b[0;36mBlock.replace_list\u001b[0;34m(self, src_list, dest_list, inplace, regex, using_cow)\u001b[0m\n\u001b[1;32m    887\u001b[0m     m \u001b[39m=\u001b[39m mib[blk_num : blk_num \u001b[39m+\u001b[39m \u001b[39m1\u001b[39m]\n\u001b[1;32m    889\u001b[0m \u001b[39m# error: Argument \"mask\" to \"_replace_coerce\" of \"Block\" has\u001b[39;00m\n\u001b[1;32m    890\u001b[0m \u001b[39m# incompatible type \"Union[ExtensionArray, ndarray[Any, Any], bool]\";\u001b[39;00m\n\u001b[1;32m    891\u001b[0m \u001b[39m# expected \"ndarray[Any, dtype[bool_]]\"\u001b[39;00m\n\u001b[0;32m--> 892\u001b[0m result \u001b[39m=\u001b[39m blk\u001b[39m.\u001b[39;49m_replace_coerce(\n\u001b[1;32m    893\u001b[0m     to_replace\u001b[39m=\u001b[39;49msrc,\n\u001b[1;32m    894\u001b[0m     value\u001b[39m=\u001b[39;49mdest,\n\u001b[1;32m    895\u001b[0m     mask\u001b[39m=\u001b[39;49mm,\n\u001b[1;32m    896\u001b[0m     inplace\u001b[39m=\u001b[39;49minplace,\n\u001b[1;32m    897\u001b[0m     regex\u001b[39m=\u001b[39;49mregex,\n\u001b[1;32m    898\u001b[0m     using_cow\u001b[39m=\u001b[39;49musing_cow,\n\u001b[1;32m    899\u001b[0m )\n\u001b[1;32m    901\u001b[0m \u001b[39mif\u001b[39;00m using_cow \u001b[39mand\u001b[39;00m i \u001b[39m!=\u001b[39m src_len:\n\u001b[1;32m    902\u001b[0m     \u001b[39m# This is ugly, but we have to get rid of intermediate refs\u001b[39;00m\n\u001b[1;32m    903\u001b[0m     \u001b[39m# that did not go out of scope yet, otherwise we will trigger\u001b[39;00m\n\u001b[1;32m    904\u001b[0m     \u001b[39m# many unnecessary copies\u001b[39;00m\n\u001b[1;32m    905\u001b[0m     \u001b[39mfor\u001b[39;00m b \u001b[39min\u001b[39;00m result:\n",
      "File \u001b[0;32m~/.local/lib/python3.10/site-packages/pandas/core/internals/blocks.py:977\u001b[0m, in \u001b[0;36mBlock._replace_coerce\u001b[0;34m(self, to_replace, value, mask, inplace, regex, using_cow)\u001b[0m\n\u001b[1;32m    975\u001b[0m         \u001b[39mreturn\u001b[39;00m [\u001b[39mself\u001b[39m]\n\u001b[1;32m    976\u001b[0m     \u001b[39mreturn\u001b[39;00m [\u001b[39mself\u001b[39m] \u001b[39mif\u001b[39;00m inplace \u001b[39melse\u001b[39;00m [\u001b[39mself\u001b[39m\u001b[39m.\u001b[39mcopy()]\n\u001b[0;32m--> 977\u001b[0m \u001b[39mreturn\u001b[39;00m \u001b[39mself\u001b[39;49m\u001b[39m.\u001b[39;49mreplace(\n\u001b[1;32m    978\u001b[0m     to_replace\u001b[39m=\u001b[39;49mto_replace,\n\u001b[1;32m    979\u001b[0m     value\u001b[39m=\u001b[39;49mvalue,\n\u001b[1;32m    980\u001b[0m     inplace\u001b[39m=\u001b[39;49minplace,\n\u001b[1;32m    981\u001b[0m     mask\u001b[39m=\u001b[39;49mmask,\n\u001b[1;32m    982\u001b[0m     using_cow\u001b[39m=\u001b[39;49musing_cow,\n\u001b[1;32m    983\u001b[0m )\n",
      "File \u001b[0;32m~/.local/lib/python3.10/site-packages/pandas/core/internals/blocks.py:729\u001b[0m, in \u001b[0;36mBlock.replace\u001b[0;34m(self, to_replace, value, inplace, mask, using_cow)\u001b[0m\n\u001b[1;32m    725\u001b[0m \u001b[39melif\u001b[39;00m \u001b[39mself\u001b[39m\u001b[39m.\u001b[39m_can_hold_element(value):\n\u001b[1;32m    726\u001b[0m     \u001b[39m# TODO(CoW): Maybe split here as well into columns where mask has True\u001b[39;00m\n\u001b[1;32m    727\u001b[0m     \u001b[39m# and rest?\u001b[39;00m\n\u001b[1;32m    728\u001b[0m     blk \u001b[39m=\u001b[39m \u001b[39mself\u001b[39m\u001b[39m.\u001b[39m_maybe_copy(using_cow, inplace)\n\u001b[0;32m--> 729\u001b[0m     putmask_inplace(blk\u001b[39m.\u001b[39;49mvalues, mask, value)\n\u001b[1;32m    730\u001b[0m     \u001b[39mif\u001b[39;00m \u001b[39mnot\u001b[39;00m (\u001b[39mself\u001b[39m\u001b[39m.\u001b[39mis_object \u001b[39mand\u001b[39;00m value \u001b[39mis\u001b[39;00m \u001b[39mNone\u001b[39;00m):\n\u001b[1;32m    731\u001b[0m         \u001b[39m# if the user *explicitly* gave None, we keep None, otherwise\u001b[39;00m\n\u001b[1;32m    732\u001b[0m         \u001b[39m#  may downcast to NaN\u001b[39;00m\n\u001b[1;32m    733\u001b[0m         blocks \u001b[39m=\u001b[39m blk\u001b[39m.\u001b[39mconvert(copy\u001b[39m=\u001b[39m\u001b[39mFalse\u001b[39;00m, using_cow\u001b[39m=\u001b[39musing_cow)\n",
      "File \u001b[0;32m~/.local/lib/python3.10/site-packages/pandas/core/array_algos/putmask.py:56\u001b[0m, in \u001b[0;36mputmask_inplace\u001b[0;34m(values, mask, value)\u001b[0m\n\u001b[1;32m     54\u001b[0m         values[mask] \u001b[39m=\u001b[39m value[mask]\n\u001b[1;32m     55\u001b[0m     \u001b[39melse\u001b[39;00m:\n\u001b[0;32m---> 56\u001b[0m         values[mask] \u001b[39m=\u001b[39m value\n\u001b[1;32m     57\u001b[0m \u001b[39melse\u001b[39;00m:\n\u001b[1;32m     58\u001b[0m     \u001b[39m# GH#37833 np.putmask is more performant than __setitem__\u001b[39;00m\n\u001b[1;32m     59\u001b[0m     np\u001b[39m.\u001b[39mputmask(values, mask, value)\n",
      "\u001b[0;31mValueError\u001b[0m: NumPy boolean array indexing assignment cannot assign 3 input values to the 50 output values where the mask is true"
     ]
    }
   ],
   "source": [
    "df[\"variety\"] = df[\"variety\"].replace({\"Setosa\": [1, 0, 0], \"Versicolor\": [0, 1, 0], \"Virginica\": [0, 0, 1]})"
   ]
  },
  {
   "cell_type": "code",
   "execution_count": 23,
   "metadata": {},
   "outputs": [],
   "source": [
    "class Net(nn.Module):\n",
    "\n",
    "    def __init__(self):\n",
    "        super(Net, self).__init__()\n",
    "        self.linear1 = nn.Linear(4, 32)\n",
    "        self.f_act = nn.ReLU()\n",
    "        self.linear2 = nn.Linear(32, 3)\n",
    "        self.softmax = nn.Softmax(dim=1)\n",
    "\n",
    "    def forward(self, X):\n",
    "        res = self.linear1(X)\n",
    "        res = self.f_act(res)\n",
    "        res = self.linear2(res)\n",
    "        res = self.softmax(res)\n",
    "        return res"
   ]
  },
  {
   "cell_type": "code",
   "execution_count": null,
   "metadata": {},
   "outputs": [],
   "source": [
    "class IrisDataset(nn.Module):\n",
    "\n",
    "    def __init__(self, dataframe: pd.dataframe):\n",
    "        self.df = dataframe\n",
    "    \n",
    "    def __len__(self):\n",
    "        return self.df.shape[0]\n",
    "\n",
    "    def __getitem__(self, ind):\n",
    "        raw = self.df.loc[]"
   ]
  },
  {
   "cell_type": "code",
   "execution_count": 26,
   "metadata": {},
   "outputs": [],
   "source": [
    "def train_one_epoch(epoch, trainloader, optimizer, model, criterion, dataset):\n",
    "    correct = 0\n",
    "    epoch_loss = 0.0\n",
    "    for i, data in enumerate(trainloader, 0):\n",
    "        x, y = data\n",
    "        optimizer.zero_grad()\n",
    "        outputs = model(x)\n",
    "        loss = criterion(outputs, y)\n",
    "        loss.backward()\n",
    "        epoch_loss += outputs.shape[0] * loss.item()\n",
    "        optimizer.step()\n",
    "        outputs = (outputs > 0.5).float()\n",
    "        correct += (outputs == y).float().sum()\n",
    "    print(f\"TRAIN [{epoch + 1}] loss: {epoch_loss / dataset.__len__():.3f}\")"
   ]
  },
  {
   "cell_type": "code",
   "execution_count": null,
   "metadata": {},
   "outputs": [],
   "source": []
  }
 ],
 "metadata": {
  "kernelspec": {
   "display_name": "Python 3",
   "language": "python",
   "name": "python3"
  },
  "language_info": {
   "codemirror_mode": {
    "name": "ipython",
    "version": 3
   },
   "file_extension": ".py",
   "mimetype": "text/x-python",
   "name": "python",
   "nbconvert_exporter": "python",
   "pygments_lexer": "ipython3",
   "version": "3.10.12"
  }
 },
 "nbformat": 4,
 "nbformat_minor": 2
}
