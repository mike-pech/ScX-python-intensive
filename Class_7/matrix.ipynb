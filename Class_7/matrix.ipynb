{
 "cells": [
  {
   "cell_type": "markdown",
   "metadata": {},
   "source": [
    "<h1> Практика матриц </h1>\n",
    "\n",
    "Создать класс <b>\"Матрица\"</b>, в котором хранятся матрицы и операции над ними по типу \\_\\_add__, \\_\\_mult__.<br>\n",
    "Нужны: +, -, *, /, @ (Скалярное произведение), len, T (Транспонирование), ==, repr"
   ]
  },
  {
   "cell_type": "code",
   "execution_count": 1,
   "metadata": {},
   "outputs": [],
   "source": [
    "class Matrix:\n",
    "\n",
    "    def __init__(\n",
    "        self, \n",
    "        matrix: list[list[int]], \n",
    "        rows: int = None, \n",
    "        cols: int = None\n",
    "        ):\n",
    "        self.matrix = matrix\n",
    "        if rows is None:           # FIX THIS!\n",
    "            self.rows = len(matrix)\n",
    "        else:\n",
    "            self.rows = rows\n",
    "        if cols is None:\n",
    "            self.cols = len(matrix[0])        \n",
    "        else:\n",
    "            self.cols = cols\n",
    "\n",
    "    def T(self):\n",
    "        tr_matrix = [[0 for j in range(self.rows)] for i in range(self.cols)]\n",
    "        for i in range(self.cols):\n",
    "            for j in range(self.rows):\n",
    "                tr_matrix[i][j] = self.matrix[j][i]\n",
    "        # return tr_matrix\n",
    "        return Matrix(tr_matrix, len(tr_matrix), len(tr_matrix[0]))\n",
    "\n",
    "        # tr_matrix = []\n",
    "        # for i in range(self.cols):\n",
    "        #     temp = []\n",
    "        #     for j in range(self.rows):\n",
    "        #         temp.append(self.matrix[j][i])\n",
    "        #     tr_matrix.append(temp)\n",
    "        # return tr_matrix\n",
    "\n",
    "    def __len__(self):\n",
    "        return self.rows * self.cols\n",
    "\n",
    "    def __add__(self, other):\n",
    "        if isinstance(other, Matrix):\n",
    "            if self.rows == other.rows and self.cols == other.cols:\n",
    "                res_matrix = []\n",
    "                for i in range(self.rows):\n",
    "                    temp = []\n",
    "                    for j in range(self.cols):\n",
    "                        temp.append(self.matrix[i][j] + other.matrix[i][j])\n",
    "                    res_matrix.append(temp)\n",
    "                return res_matrix\n",
    "            else:\n",
    "                return \"Невозможно сложить матрицы разных размеров!\"\n",
    "        elif (other, (int, float)):\n",
    "            res_matrix = []\n",
    "            for i in range(self.rows):\n",
    "                temp = []\n",
    "                for j in range(self.cols):\n",
    "                    temp.append(self.matrix[i][j] + other)\n",
    "                res_matrix.append(temp)\n",
    "            return res_matrix            \n",
    "    \n",
    "    def __sub__(self, other):\n",
    "        if isinstance(other, Matrix):\n",
    "            if self.rows == other.rows and self.cols == other.cols:\n",
    "                res_matrix = []\n",
    "                for i in range(self.rows):\n",
    "                    temp = []\n",
    "                    for j in range(self.cols):\n",
    "                        temp.append(self.matrix[i][j] - other.matrix[i][j])\n",
    "                    res_matrix.append(temp)\n",
    "                return res_matrix\n",
    "            else:\n",
    "                return \"Невозможно вычесть матрицы разных размеров!\"\n",
    "        elif (other, (int, float)):\n",
    "            res_matrix = []\n",
    "            for i in range(self.rows):\n",
    "                temp = []\n",
    "                for j in range(self.cols):\n",
    "                    temp.append(self.matrix[i][j] - other)\n",
    "                res_matrix.append(temp)\n",
    "            return res_matrix            \n",
    "\n",
    "    def __mul__(self, other):                   # Умножает соразмерные матрицы в порядке: a[i][j] * b[i][j]\n",
    "        if isinstance(other, Matrix):\n",
    "            if self.cols == other.cols and self.rows == other.rows:\n",
    "                res_matrix = [[0 for i in range(self.cols)] for j in range(self.rows)]\n",
    "                for i in range(self.rows):\n",
    "                    for j in range(self.cols):\n",
    "                        res_matrix[i][j] = self.matrix[i][j] * other.matrix[i][j]\n",
    "                return res_matrix\n",
    "            else:\n",
    "                return \"Невозможно умножить несоразмерные матрицы!\"\n",
    "        elif isinstance(other, (int, float)):\n",
    "            res_matrix = []\n",
    "            for i in range(self.rows):\n",
    "                temp = []\n",
    "                for j in range(self.cols):\n",
    "                    temp.append(self.matrix[i][j] * other)\n",
    "                res_matrix.append(temp)\n",
    "            return res_matrix\n",
    "\n",
    "    def __truediv__(self, other):               # Делит соразмерные матрицы в порядке: a[i][j] / b[i][j]\n",
    "        if isinstance(other, Matrix):\n",
    "            if self.cols == other.cols and self.rows == other.rows:\n",
    "                res_matrix = [[0 for i in range(self.cols)] for j in range(self.rows)]\n",
    "                for i in range(self.rows):\n",
    "                    for j in range(self.cols):\n",
    "                        res_matrix[i][j] = self.matrix[i][j] / other.matrix[i][j]\n",
    "                return res_matrix\n",
    "            else:\n",
    "                return \"Невозможно разделить несоразмерные матрицы!\"\n",
    "        elif isinstance(other, (int, float)):\n",
    "            res_matrix = [[0 for i in range(self.cols)] for j in range(self.rows)]\n",
    "            for i in range(self.rows):\n",
    "                for j in range(self.cols):\n",
    "                    res_matrix[i][j] = self.matrix[i][j] / other\n",
    "            return res_matrix\n",
    "\n",
    "    def __matmul__(self, other):                    # А вот это уже и есть умножение матриц!\n",
    "        if isinstance(other, Matrix):\n",
    "            if self.cols == other.rows:\n",
    "                res_matrix = [[0 for i in range(other.cols)] for j in range(self.rows)]\n",
    "                for i in range(self.rows):\n",
    "                    for j in range(other.cols):\n",
    "                        for k in range(self.cols):\n",
    "                            res_matrix[i][j] += self.matrix[i][k] * other.matrix[k][j]\n",
    "                return res_matrix\n",
    "            else:\n",
    "                return \"Невозможно умножить матрицы, если количество колонок в первой не соответствует количеству рядов во второй!\"\n",
    "        elif isinstance(other, list):\n",
    "            # mother = Matrix(other, len(other), len(other[0]))\n",
    "            if self.cols == len(other):\n",
    "                res_matrix = [[0 for i in range(len(other[0]))] for j in range(self.rows)]\n",
    "                for i in range(self.rows):\n",
    "                    for j in range(len(other[0])):\n",
    "                        for k in range(self.cols):\n",
    "                            res_matrix[i][j] += self.matrix[i][k] * other[k][j]\n",
    "                return res_matrix\n",
    "            else:\n",
    "                return \"Невозможно умножить матрицы, если количество колонок в первой не соответствует количеству рядов во второй!\"\n",
    "\n",
    "    def __eq__(self, other):\n",
    "        if isinstance(other, Matrix):\n",
    "            if self.rows == other.rows and self.cols == other.cols:\n",
    "                for i in range(self.rows):\n",
    "                    for j in range(other.cols):\n",
    "                        if self.matrix[j][i] != other.matrix[j][i]:\n",
    "                            return False\n",
    "                return True\n",
    "            else:\n",
    "                return False\n",
    "        elif isinstance(other, list[list[int]]):\n",
    "            if self.rows == len(other) and self.cols == len(other[0]):\n",
    "                for i in range(self.rows):\n",
    "                    for j in range(self.cols):\n",
    "                        if self.matrix[i][j] != other[i][j]:\n",
    "                            return False\n",
    "                return True\n",
    "            else:\n",
    "                return False\n",
    "    \n",
    "    def __repr__(self):\n",
    "        out = [\"array([\", str(self.matrix[0])]\n",
    "        if self.rows > 1:\n",
    "            for i in range(1, self.rows):\n",
    "                out.append(\",\\n\")\n",
    "                out.append(\"        \")\n",
    "                out.append(str(self.matrix[i]))\n",
    "        out.append(\"])\")\n",
    "        return \"\".join(out)\n",
    "\n"
   ]
  },
  {
   "cell_type": "code",
   "execution_count": 2,
   "metadata": {},
   "outputs": [
    {
     "name": "stdout",
     "output_type": "stream",
     "text": [
      "Note: you may need to restart the kernel to use updated packages.\n",
      "Note: you may need to restart the kernel to use updated packages.\n"
     ]
    }
   ],
   "source": [
    "%pip install -Uq numpy\n",
    "%pip install -q ipytest pytest\n",
    "\n",
    "import numpy as np\n",
    "import ipytest\n",
    "import pytest\n",
    "ipytest.autoconfig()"
   ]
  },
  {
   "cell_type": "code",
   "execution_count": 3,
   "metadata": {},
   "outputs": [
    {
     "name": "stdout",
     "output_type": "stream",
     "text": [
      "\u001b[32m.\u001b[0m\u001b[32m.\u001b[0m\u001b[32m.\u001b[0m\u001b[32m.\u001b[0m\u001b[32m.\u001b[0m\u001b[32m.\u001b[0m\u001b[32m.\u001b[0m\u001b[32m.\u001b[0m\u001b[32m.\u001b[0m\u001b[32m.\u001b[0m\u001b[32m                                                                                   [100%]\u001b[0m\n",
      "\u001b[32m\u001b[32m\u001b[1m10 passed\u001b[0m\u001b[32m in 0.04s\u001b[0m\u001b[0m\n"
     ]
    }
   ],
   "source": [
    "%%ipytest\n",
    "\n",
    "matrix1, matrix2 = Matrix([[1, 1, 1], [1, 2, 3], [11, 12, 13], [11, 22, 33]]), Matrix([[4, 5, 6], [7, 8, 9], [77, 12, 12], [2, 1, 45]], 4, 3)\n",
    "\n",
    "@pytest.mark.parametrize(\"matrix1,matrix2\", [[matrix1, matrix2]])\n",
    "def test_matrix_add_matrix(matrix1: Matrix, matrix2: Matrix):\n",
    "    assert (\n",
    "        (matrix1 + matrix2 == (np.array(matrix1.matrix) + np.array(matrix2.matrix))).all()\n",
    "    ), 'add section with matrices is not working right'\n",
    "\n",
    "@pytest.mark.parametrize(\"matrix1,number\", [[matrix1, 13.2]])\n",
    "def test_matrix_add_number(matrix1: Matrix, number: int | float):\n",
    "    assert (\n",
    "        (matrix1 + number == np.array(matrix1.matrix) + number).all()\n",
    "    ), 'add section with matrix and number is not working right'\n",
    "\n",
    "@pytest.mark.parametrize(\"matrix1,matrix2\", [[matrix1, matrix2]])\n",
    "def test_matrix_sub_matrix(matrix1: Matrix, matrix2: Matrix):\n",
    "    assert (\n",
    "        (matrix1 - matrix2 == np.array(matrix1.matrix) - np.array(matrix2.matrix)).all()\n",
    "    ), 'sub section with matrices is not working right'\n",
    "\n",
    "@pytest.mark.parametrize(\"matrix1,number\", [[matrix1, 12.2]])    \n",
    "def test_matrix_sub_number(matrix1: Matrix, number: int | float):\n",
    "    assert (\n",
    "        (matrix1 - number == np.array(matrix1.matrix) - number).all()\n",
    "    ), 'sub section with matrix and number is not working right'\n",
    "\n",
    "@pytest.mark.parametrize(\"matrix1\", [matrix1])    \n",
    "def test_matrix_transpose(matrix1: Matrix):\n",
    "    assert (\n",
    "        (matrix1.T().matrix == np.array(matrix1.matrix).T).all()\n",
    "    ), 'transpose section is not working right'\n",
    "    \n",
    "# -----------------------------------------\n",
    "\n",
    "@pytest.mark.parametrize(\"matrix1,matrix2\", [[matrix1, matrix2]])\n",
    "def test_matrix_mul_matrix(matrix1: Matrix, matrix2: Matrix):\n",
    "    assert (\n",
    "        (matrix1 * matrix2 == np.array(matrix1.matrix) * np.array(matrix2.matrix)).all()\n",
    "    ), 'mul section with matrices is not working right'\n",
    "\n",
    "@pytest.mark.parametrize(\"matrix1,number\", [[matrix1, 13]])\n",
    "def test_matrix_mul_number(matrix1: Matrix, number: int | float):\n",
    "    assert (\n",
    "        (matrix1 * number == np.array(matrix1.matrix) * number).all()\n",
    "    ), 'mul section with matrix and number is not working right'\n",
    "\n",
    "@pytest.mark.parametrize(\"matrix1,matrix2\", [[matrix1, matrix2]])    \n",
    "def test_matrix_div_matrix(matrix1: Matrix, matrix2: Matrix):\n",
    "    assert (\n",
    "        (matrix1 / matrix2 == np.array(matrix1.matrix) / np.array(matrix2.matrix)).all()\n",
    "    ), 'div section with matrices is not working right'\n",
    "\n",
    "@pytest.mark.parametrize(\"matrix1,number\", [[matrix1, 2]])    \n",
    "def test_matrix_div_number(matrix1: Matrix, number: int | float):\n",
    "    assert (\n",
    "        (matrix1 / number == np.array(matrix1.matrix) / number).all()\n",
    "    ), 'div section with matrix and number is not working right'\n",
    "\n",
    "@pytest.mark.parametrize(\"matrix1,matrix2\", [[matrix1, matrix2.T()]])    \n",
    "def test_matrix_matmul_matrix(matrix1: Matrix, matrix2: Matrix):\n",
    "    assert(\n",
    "        (matrix1 @ matrix2 == np.array(matrix1.matrix) @ np.array(matrix2.matrix)).all()\n",
    "    ), 'matmul section is not working right, and don\\'t forget about T() if needed'\n",
    "    \n",
    "    "
   ]
  },
  {
   "cell_type": "markdown",
   "metadata": {},
   "source": [
    "<h2>Далее идут мои тесты</h2>"
   ]
  },
  {
   "cell_type": "code",
   "execution_count": 22,
   "metadata": {},
   "outputs": [],
   "source": [
    "matrix1, matrix2 = Matrix([[1, 2],[3, 4]], 2, 2), Matrix([[5, 6],[7, 8]], 2, 2)\n",
    "matrix3, matrix4 = Matrix([[i for i in range(j, j+4)] for j in range(4)]), Matrix([[i for i in range(j, j+4)] for j in range(1, 5)])\n",
    "matrix5, matrix6 = Matrix([[1, 2, 3]], 1, 3), Matrix([[4], [5], [6]], 3, 1)\n",
    "matrix7, matrix8 = Matrix([[1, 2, 3, 4],[5, 6, 7, 8],[9, 10, 11, 12]], 3, 4), Matrix([[12, 11, 10], [9, 8, 7], [6, 5, 4], [3, 2, 1]], 4, 3)"
   ]
  },
  {
   "cell_type": "code",
   "execution_count": 23,
   "metadata": {},
   "outputs": [
    {
     "name": "stdout",
     "output_type": "stream",
     "text": [
      "[[6, 8], [10, 12]]\n"
     ]
    }
   ],
   "source": [
    "print(matrix1 + matrix2)"
   ]
  },
  {
   "cell_type": "code",
   "execution_count": 24,
   "metadata": {},
   "outputs": [
    {
     "name": "stdout",
     "output_type": "stream",
     "text": [
      "[[1, 2], [3, 4]]\n",
      "прибавить \n",
      "[[5, 6], [7, 8]]\n",
      "равно\n",
      "[[6, 8], [10, 12]]\n",
      "\n",
      "[[1, 2], [3, 4]]\n",
      "вычесть \n",
      "[[5, 6], [7, 8]]\n",
      "равно\n",
      "[[-4, -4], [-4, -4]]\n",
      "\n"
     ]
    }
   ],
   "source": [
    "matrix_sum = matrix1 + matrix2\n",
    "print(f\"{matrix1.matrix}\\nприбавить \\n{matrix2.matrix}\\nравно\\n{matrix_sum}\\n\")\n",
    "\n",
    "matrix_sub = matrix1 - matrix2\n",
    "print(f\"{matrix1.matrix}\\nвычесть \\n{matrix2.matrix}\\nравно\\n{matrix_sub}\\n\")"
   ]
  },
  {
   "cell_type": "code",
   "execution_count": 25,
   "metadata": {},
   "outputs": [
    {
     "name": "stdout",
     "output_type": "stream",
     "text": [
      "Lengths: \n",
      "Matrix 1: 4\n",
      "Matrix 2: 4\n",
      "Matrix 6: 3\n",
      "Matrix 7: 12\n"
     ]
    }
   ],
   "source": [
    "print(f\"Lengths: \\nMatrix 1: {len(matrix1)}\\nMatrix 2: {len(matrix2)}\\nMatrix 6: {len(matrix6)}\\nMatrix 7: {len(matrix7)}\")"
   ]
  },
  {
   "cell_type": "code",
   "execution_count": 26,
   "metadata": {},
   "outputs": [
    {
     "data": {
      "text/plain": [
       "False"
      ]
     },
     "execution_count": 26,
     "metadata": {},
     "output_type": "execute_result"
    }
   ],
   "source": [
    "matrix1 == matrix2"
   ]
  },
  {
   "cell_type": "code",
   "execution_count": 27,
   "metadata": {},
   "outputs": [
    {
     "data": {
      "text/plain": [
       "True"
      ]
     },
     "execution_count": 27,
     "metadata": {},
     "output_type": "execute_result"
    }
   ],
   "source": [
    "matrix1_1 = Matrix([[1, 2],[3, 4]], 2, 2)\n",
    "\n",
    "matrix1 == matrix1_1"
   ]
  },
  {
   "cell_type": "code",
   "execution_count": 28,
   "metadata": {},
   "outputs": [
    {
     "data": {
      "text/plain": [
       "False"
      ]
     },
     "execution_count": 28,
     "metadata": {},
     "output_type": "execute_result"
    }
   ],
   "source": [
    "matrix1 == matrix6"
   ]
  },
  {
   "cell_type": "code",
   "execution_count": 29,
   "metadata": {},
   "outputs": [
    {
     "data": {
      "text/plain": [
       "'Невозможно умножить несоразмерные матрицы!'"
      ]
     },
     "execution_count": 29,
     "metadata": {},
     "output_type": "execute_result"
    }
   ],
   "source": [
    "matrix6 * matrix1"
   ]
  },
  {
   "cell_type": "code",
   "execution_count": 30,
   "metadata": {},
   "outputs": [
    {
     "data": {
      "text/plain": [
       "'Невозможно умножить несоразмерные матрицы!'"
      ]
     },
     "execution_count": 30,
     "metadata": {},
     "output_type": "execute_result"
    }
   ],
   "source": [
    "matrix6 * matrix5"
   ]
  },
  {
   "cell_type": "code",
   "execution_count": 31,
   "metadata": {},
   "outputs": [
    {
     "name": "stdout",
     "output_type": "stream",
     "text": [
      "[[4, 8, 12], [5, 10, 15], [6, 12, 18]]\n",
      "[[ 4  8 12]\n",
      " [ 5 10 15]\n",
      " [ 6 12 18]]\n"
     ]
    }
   ],
   "source": [
    "print(matrix6 @ matrix5)\n",
    "print(np.array(matrix6.matrix) @ np.array(matrix5.matrix))"
   ]
  },
  {
   "cell_type": "code",
   "execution_count": 32,
   "metadata": {},
   "outputs": [
    {
     "name": "stdout",
     "output_type": "stream",
     "text": [
      "[[19, 22], [43, 50]]\n",
      "[[19 22]\n",
      " [43 50]]\n"
     ]
    }
   ],
   "source": [
    "print(matrix1 @ matrix2)\n",
    "print(np.array(matrix1.matrix) @ np.array(matrix2.matrix))"
   ]
  },
  {
   "cell_type": "code",
   "execution_count": 33,
   "metadata": {},
   "outputs": [
    {
     "name": "stdout",
     "output_type": "stream",
     "text": [
      "[[0, 2, 6, 12], [2, 6, 12, 20], [6, 12, 20, 30], [12, 20, 30, 42]]\n",
      "\n",
      "[[ 0  2  6 12]\n",
      " [ 2  6 12 20]\n",
      " [ 6 12 20 30]\n",
      " [12 20 30 42]]\n"
     ]
    }
   ],
   "source": [
    "print(matrix3 * matrix4)\n",
    "print()\n",
    "print(np.array(matrix3.matrix) * np.array(matrix4.matrix))"
   ]
  },
  {
   "cell_type": "code",
   "execution_count": 34,
   "metadata": {},
   "outputs": [
    {
     "name": "stdout",
     "output_type": "stream",
     "text": [
      "[[0.0, 0.5, 0.6666666666666666, 0.75], [0.5, 0.6666666666666666, 0.75, 0.8], [0.6666666666666666, 0.75, 0.8, 0.8333333333333334], [0.75, 0.8, 0.8333333333333334, 0.8571428571428571]]\n",
      "\n",
      "[[0.         0.5        0.66666667 0.75      ]\n",
      " [0.5        0.66666667 0.75       0.8       ]\n",
      " [0.66666667 0.75       0.8        0.83333333]\n",
      " [0.75       0.8        0.83333333 0.85714286]]\n"
     ]
    }
   ],
   "source": [
    "print(matrix3 / matrix4)\n",
    "print()\n",
    "print(np.array(matrix3.matrix) / np.array(matrix4.matrix))"
   ]
  },
  {
   "cell_type": "code",
   "execution_count": 35,
   "metadata": {},
   "outputs": [
    {
     "data": {
      "text/plain": [
       "'array([[1, 2, 3, 4],\\n        [2, 3, 4, 5],\\n        [3, 4, 5, 6],\\n        [4, 5, 6, 7]])'"
      ]
     },
     "execution_count": 35,
     "metadata": {},
     "output_type": "execute_result"
    }
   ],
   "source": [
    "repr(matrix4)"
   ]
  },
  {
   "cell_type": "code",
   "execution_count": 36,
   "metadata": {},
   "outputs": [
    {
     "data": {
      "text/plain": [
       "'array([[1, 2, 3, 4],\\n       [2, 3, 4, 5],\\n       [3, 4, 5, 6],\\n       [4, 5, 6, 7]])'"
      ]
     },
     "execution_count": 36,
     "metadata": {},
     "output_type": "execute_result"
    }
   ],
   "source": [
    "repr(np.array(matrix4.matrix))"
   ]
  },
  {
   "cell_type": "code",
   "execution_count": 37,
   "metadata": {},
   "outputs": [
    {
     "name": "stdout",
     "output_type": "stream",
     "text": [
      "[[1, 2, 3]]\n",
      "\n",
      "[[1], [2], [3]]\n",
      "\n",
      "[[1]\n",
      " [2]\n",
      " [3]]\n",
      "\n",
      "[[12, 11, 10], [9, 8, 7], [6, 5, 4], [3, 2, 1]]\n",
      "\n",
      "[[12, 9, 6, 3], [11, 8, 5, 2], [10, 7, 4, 1]]\n",
      "\n",
      "[[12  9  6  3]\n",
      " [11  8  5  2]\n",
      " [10  7  4  1]]\n",
      "\n",
      "[[5, 6], [7, 8]]\n",
      "\n",
      "[[5, 7], [6, 8]]\n",
      "\n",
      "[[5 7]\n",
      " [6 8]]\n"
     ]
    }
   ],
   "source": [
    "print(matrix5.matrix, matrix5.T().matrix, np.array(matrix5.matrix).T, sep=\"\\n\\n\")\n",
    "print()\n",
    "print(matrix8.matrix, matrix8.T().matrix, np.array(matrix8.matrix).T, sep=\"\\n\\n\")\n",
    "print()\n",
    "print(matrix2.matrix, matrix2.T().matrix, np.array(matrix2.matrix).T, sep=\"\\n\\n\")"
   ]
  },
  {
   "cell_type": "code",
   "execution_count": 38,
   "metadata": {},
   "outputs": [
    {
     "name": "stdout",
     "output_type": "stream",
     "text": [
      "[[17, 23], [39, 53]]\n",
      "\n",
      "[[17 23]\n",
      " [39 53]]\n"
     ]
    }
   ],
   "source": [
    "print(matrix1 @ matrix2.T())\n",
    "print()\n",
    "print(np.array(matrix1.matrix) @ np.array(matrix2.matrix).T)"
   ]
  },
  {
   "cell_type": "code",
   "execution_count": null,
   "metadata": {},
   "outputs": [],
   "source": []
  }
 ],
 "metadata": {
  "kernelspec": {
   "display_name": "Python 3",
   "language": "python",
   "name": "python3"
  },
  "language_info": {
   "codemirror_mode": {
    "name": "ipython",
    "version": 3
   },
   "file_extension": ".py",
   "mimetype": "text/x-python",
   "name": "python",
   "nbconvert_exporter": "python",
   "pygments_lexer": "ipython3",
   "version": "3.10.12"
  },
  "orig_nbformat": 4
 },
 "nbformat": 4,
 "nbformat_minor": 2
}
