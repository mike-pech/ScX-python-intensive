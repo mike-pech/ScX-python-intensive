{
 "cells": [
  {
   "cell_type": "code",
   "execution_count": 2,
   "metadata": {},
   "outputs": [
    {
     "name": "stdout",
     "output_type": "stream",
     "text": [
      "Note: you may need to restart the kernel to use updated packages.\n"
     ]
    }
   ],
   "source": [
    "pip install -q pandas"
   ]
  },
  {
   "cell_type": "code",
   "execution_count": 3,
   "metadata": {},
   "outputs": [],
   "source": [
    "import pandas as pd"
   ]
  },
  {
   "cell_type": "code",
   "execution_count": 4,
   "metadata": {},
   "outputs": [
    {
     "name": "stdout",
     "output_type": "stream",
     "text": [
      "<class 'pandas.core.frame.DataFrame'>\n",
      "RangeIndex: 200000 entries, 0 to 199999\n",
      "Data columns (total 4 columns):\n",
      " #   Column    Non-Null Count   Dtype \n",
      "---  ------    --------------   ----- \n",
      " 0   user_id   200000 non-null  int64 \n",
      " 1   source    198326 non-null  object\n",
      " 2   email     13953 non-null   object\n",
      " 3   purchase  200000 non-null  int64 \n",
      "dtypes: int64(2), object(2)\n",
      "memory usage: 6.1+ MB\n"
     ]
    }
   ],
   "source": [
    "data= pd.read_csv(\"logs.csv\", encoding=\"utf-8\")\n",
    "data.info()"
   ]
  },
  {
   "cell_type": "code",
   "execution_count": 5,
   "metadata": {},
   "outputs": [
    {
     "data": {
      "text/plain": [
       "user_id          0\n",
       "source        1674\n",
       "email       186047\n",
       "purchase         0\n",
       "dtype: int64"
      ]
     },
     "execution_count": 5,
     "metadata": {},
     "output_type": "execute_result"
    }
   ],
   "source": [
    "data.isna().sum()"
   ]
  },
  {
   "cell_type": "code",
   "execution_count": 6,
   "metadata": {},
   "outputs": [
    {
     "data": {
      "text/plain": [
       "user_id\n",
       "5678294978    11\n",
       "9713454510    10\n",
       "1743281508    10\n",
       "6991677077     9\n",
       "7450740664     9\n",
       "              ..\n",
       "1483922716     1\n",
       "3569150622     1\n",
       "7008957429     1\n",
       "2771801772     1\n",
       "5290938675     1\n",
       "Name: count, Length: 86571, dtype: int64"
      ]
     },
     "execution_count": 6,
     "metadata": {},
     "output_type": "execute_result"
    }
   ],
   "source": [
    "data[\"user_id\"].value_counts()"
   ]
  },
  {
   "cell_type": "code",
   "execution_count": 7,
   "metadata": {},
   "outputs": [
    {
     "data": {
      "text/html": [
       "<div>\n",
       "<style scoped>\n",
       "    .dataframe tbody tr th:only-of-type {\n",
       "        vertical-align: middle;\n",
       "    }\n",
       "\n",
       "    .dataframe tbody tr th {\n",
       "        vertical-align: top;\n",
       "    }\n",
       "\n",
       "    .dataframe thead th {\n",
       "        text-align: right;\n",
       "    }\n",
       "</style>\n",
       "<table border=\"1\" class=\"dataframe\">\n",
       "  <thead>\n",
       "    <tr style=\"text-align: right;\">\n",
       "      <th></th>\n",
       "      <th>user_id</th>\n",
       "      <th>source</th>\n",
       "      <th>email</th>\n",
       "      <th>purchase</th>\n",
       "    </tr>\n",
       "  </thead>\n",
       "  <tbody>\n",
       "    <tr>\n",
       "      <th>0</th>\n",
       "      <td>7141786820</td>\n",
       "      <td>other</td>\n",
       "      <td>NaN</td>\n",
       "      <td>0</td>\n",
       "    </tr>\n",
       "    <tr>\n",
       "      <th>1</th>\n",
       "      <td>5644686960</td>\n",
       "      <td>email</td>\n",
       "      <td>c129aa540a</td>\n",
       "      <td>0</td>\n",
       "    </tr>\n",
       "    <tr>\n",
       "      <th>2</th>\n",
       "      <td>1914055396</td>\n",
       "      <td>context</td>\n",
       "      <td>NaN</td>\n",
       "      <td>0</td>\n",
       "    </tr>\n",
       "    <tr>\n",
       "      <th>3</th>\n",
       "      <td>4099355752</td>\n",
       "      <td>other</td>\n",
       "      <td>NaN</td>\n",
       "      <td>0</td>\n",
       "    </tr>\n",
       "    <tr>\n",
       "      <th>4</th>\n",
       "      <td>6032477554</td>\n",
       "      <td>context</td>\n",
       "      <td>NaN</td>\n",
       "      <td>1</td>\n",
       "    </tr>\n",
       "    <tr>\n",
       "      <th>...</th>\n",
       "      <td>...</td>\n",
       "      <td>...</td>\n",
       "      <td>...</td>\n",
       "      <td>...</td>\n",
       "    </tr>\n",
       "    <tr>\n",
       "      <th>199994</th>\n",
       "      <td>2816831322</td>\n",
       "      <td>context</td>\n",
       "      <td>NaN</td>\n",
       "      <td>0</td>\n",
       "    </tr>\n",
       "    <tr>\n",
       "      <th>199995</th>\n",
       "      <td>8714621942</td>\n",
       "      <td>other</td>\n",
       "      <td>NaN</td>\n",
       "      <td>0</td>\n",
       "    </tr>\n",
       "    <tr>\n",
       "      <th>199996</th>\n",
       "      <td>6064948744</td>\n",
       "      <td>context</td>\n",
       "      <td>NaN</td>\n",
       "      <td>1</td>\n",
       "    </tr>\n",
       "    <tr>\n",
       "      <th>199997</th>\n",
       "      <td>9210683879</td>\n",
       "      <td>context</td>\n",
       "      <td>NaN</td>\n",
       "      <td>0</td>\n",
       "    </tr>\n",
       "    <tr>\n",
       "      <th>199999</th>\n",
       "      <td>2089329795</td>\n",
       "      <td>other</td>\n",
       "      <td>NaN</td>\n",
       "      <td>0</td>\n",
       "    </tr>\n",
       "  </tbody>\n",
       "</table>\n",
       "<p>197727 rows × 4 columns</p>\n",
       "</div>"
      ],
      "text/plain": [
       "           user_id   source       email  purchase\n",
       "0       7141786820    other         NaN         0\n",
       "1       5644686960    email  c129aa540a         0\n",
       "2       1914055396  context         NaN         0\n",
       "3       4099355752    other         NaN         0\n",
       "4       6032477554  context         NaN         1\n",
       "...            ...      ...         ...       ...\n",
       "199994  2816831322  context         NaN         0\n",
       "199995  8714621942    other         NaN         0\n",
       "199996  6064948744  context         NaN         1\n",
       "199997  9210683879  context         NaN         0\n",
       "199999  2089329795    other         NaN         0\n",
       "\n",
       "[197727 rows x 4 columns]"
      ]
     },
     "execution_count": 7,
     "metadata": {},
     "output_type": "execute_result"
    }
   ],
   "source": [
    "data_grb_uid = data.groupby(\"user_id\")\n",
    "data_grb_uid.head()"
   ]
  },
  {
   "cell_type": "code",
   "execution_count": 12,
   "metadata": {},
   "outputs": [],
   "source": [
    "data[\"purchase\"] = data[\"purchase\"].astype(bool)"
   ]
  },
  {
   "cell_type": "code",
   "execution_count": 13,
   "metadata": {},
   "outputs": [
    {
     "name": "stdout",
     "output_type": "stream",
     "text": [
      "<class 'pandas.core.frame.DataFrame'>\n",
      "RangeIndex: 200000 entries, 0 to 199999\n",
      "Data columns (total 4 columns):\n",
      " #   Column    Non-Null Count   Dtype \n",
      "---  ------    --------------   ----- \n",
      " 0   user_id   200000 non-null  int64 \n",
      " 1   source    198326 non-null  object\n",
      " 2   email     13953 non-null   object\n",
      " 3   purchase  200000 non-null  bool  \n",
      "dtypes: bool(1), int64(1), object(2)\n",
      "memory usage: 4.8+ MB\n"
     ]
    }
   ],
   "source": [
    "data.info()"
   ]
  },
  {
   "cell_type": "code",
   "execution_count": 17,
   "metadata": {},
   "outputs": [
    {
     "name": "stdout",
     "output_type": "stream",
     "text": [
      "           user_id source       email  purchase\n",
      "22      1397217221    NaN  79ac569f0b     False\n",
      "49      5062457902    NaN  9ddce3a861     False\n",
      "171     6724868284    NaN  c0e48c7cf8     False\n",
      "258     3221384063    NaN  7fe8da1823     False\n",
      "379     7515782311    NaN  462462af10     False\n",
      "...            ...    ...         ...       ...\n",
      "199342  3439213943    NaN  7edda4e2a4     False\n",
      "199661  9473123762    NaN  3535509f51     False\n",
      "199689   722485056    NaN  470ffa3800     False\n",
      "199709  5950023506    NaN  0fb749d485     False\n",
      "199758  3747926428    NaN  604850216f     False\n",
      "\n",
      "[1855 rows x 4 columns]\n",
      "           user_id source       email  purchase\n",
      "22      1397217221    NaN  79ac569f0b     False\n",
      "49      5062457902    NaN  9ddce3a861     False\n",
      "171     6724868284    NaN  c0e48c7cf8     False\n",
      "258     3221384063    NaN  7fe8da1823     False\n",
      "379     7515782311    NaN  462462af10     False\n",
      "...            ...    ...         ...       ...\n",
      "199342  3439213943    NaN  7edda4e2a4     False\n",
      "199661  9473123762    NaN  3535509f51     False\n",
      "199689   722485056    NaN  470ffa3800     False\n",
      "199709  5950023506    NaN  0fb749d485     False\n",
      "199758  3747926428    NaN  604850216f     False\n",
      "\n",
      "[1855 rows x 4 columns]\n"
     ]
    }
   ],
   "source": [
    "print(data[data[\"source\"].isna()])\n",
    "data[\"source\"] = data[\"source\"].replace(\"None\", None)\n",
    "data[\"source\"] = data[\"source\"].replace(\"undef\", None)\n",
    "print(data[data[\"source\"].isna()])"
   ]
  },
  {
   "cell_type": "code",
   "execution_count": 25,
   "metadata": {},
   "outputs": [
    {
     "ename": "AttributeError",
     "evalue": "'SeriesGroupBy' object has no attribute 'sort_values'",
     "output_type": "error",
     "traceback": [
      "\u001b[0;31m---------------------------------------------------------------------------\u001b[0m",
      "\u001b[0;31mAttributeError\u001b[0m                            Traceback (most recent call last)",
      "\u001b[1;32m/home/skelet0n/Python/ScX-python-intensive/Class_13/Ilya/logs.ipynb Cell 10\u001b[0m line \u001b[0;36m2\n\u001b[1;32m      <a href='vscode-notebook-cell://wsl%2Bubuntu/home/skelet0n/Python/ScX-python-intensive/Class_13/Ilya/logs.ipynb#X12sdnNjb2RlLXJlbW90ZQ%3D%3D?line=0'>1</a>\u001b[0m data_grb_uid \u001b[39m=\u001b[39m data\u001b[39m.\u001b[39mgroupby(\u001b[39m\"\u001b[39m\u001b[39muser_id\u001b[39m\u001b[39m\"\u001b[39m)[\u001b[39m\"\u001b[39m\u001b[39msource\u001b[39m\u001b[39m\"\u001b[39m]\n\u001b[0;32m----> <a href='vscode-notebook-cell://wsl%2Bubuntu/home/skelet0n/Python/ScX-python-intensive/Class_13/Ilya/logs.ipynb#X12sdnNjb2RlLXJlbW90ZQ%3D%3D?line=1'>2</a>\u001b[0m data_grb_uid\u001b[39m.\u001b[39;49msort_values(ascending\u001b[39m=\u001b[39m\u001b[39mTrue\u001b[39;00m)\n",
      "File \u001b[0;32m~/.local/lib/python3.10/site-packages/pandas/core/groupby/groupby.py:1308\u001b[0m, in \u001b[0;36mGroupBy.__getattr__\u001b[0;34m(self, attr)\u001b[0m\n\u001b[1;32m   1305\u001b[0m \u001b[39mif\u001b[39;00m attr \u001b[39min\u001b[39;00m \u001b[39mself\u001b[39m\u001b[39m.\u001b[39mobj:\n\u001b[1;32m   1306\u001b[0m     \u001b[39mreturn\u001b[39;00m \u001b[39mself\u001b[39m[attr]\n\u001b[0;32m-> 1308\u001b[0m \u001b[39mraise\u001b[39;00m \u001b[39mAttributeError\u001b[39;00m(\n\u001b[1;32m   1309\u001b[0m     \u001b[39mf\u001b[39m\u001b[39m\"\u001b[39m\u001b[39m'\u001b[39m\u001b[39m{\u001b[39;00m\u001b[39mtype\u001b[39m(\u001b[39mself\u001b[39m)\u001b[39m.\u001b[39m\u001b[39m__name__\u001b[39m\u001b[39m}\u001b[39;00m\u001b[39m'\u001b[39m\u001b[39m object has no attribute \u001b[39m\u001b[39m'\u001b[39m\u001b[39m{\u001b[39;00mattr\u001b[39m}\u001b[39;00m\u001b[39m'\u001b[39m\u001b[39m\"\u001b[39m\n\u001b[1;32m   1310\u001b[0m )\n",
      "\u001b[0;31mAttributeError\u001b[0m: 'SeriesGroupBy' object has no attribute 'sort_values'"
     ]
    }
   ],
   "source": [
    "data_grb_uid = data.groupby(\"user_id\")[\"source\"]\n",
    "data_grb_uid.sort_values(ascending=True)"
   ]
  },
  {
   "cell_type": "code",
   "execution_count": 20,
   "metadata": {},
   "outputs": [],
   "source": [
    "total_installs = data.shape[0]\n",
    "total_purchases = data[\"purchase\"].sum()\n",
    "\n",
    "total_conversion = total_purchases / total_installs"
   ]
  },
  {
   "cell_type": "code",
   "execution_count": null,
   "metadata": {},
   "outputs": [],
   "source": [
    "avoid_n = 0\n",
    "unique_installs = data_grb_uid.shape[0]\n",
    "unique_purchases = pd.DataFrame(data_grb_uid).query(\"purchase != @avoid_n\").shape[0]\n",
    "\n",
    "unique_conversion = unique_purchases / unique_installs\n",
    "\n",
    "print(f\"Конверсия: {total_conversion:.2%}\")\n",
    "print(f\"Конверсия (уник.): {unique_conversion:.2%}\")"
   ]
  }
 ],
 "metadata": {
  "kernelspec": {
   "display_name": "Python 3",
   "language": "python",
   "name": "python3"
  },
  "language_info": {
   "codemirror_mode": {
    "name": "ipython",
    "version": 3
   },
   "file_extension": ".py",
   "mimetype": "text/x-python",
   "name": "python",
   "nbconvert_exporter": "python",
   "pygments_lexer": "ipython3",
   "version": "3.10.12"
  },
  "orig_nbformat": 4
 },
 "nbformat": 4,
 "nbformat_minor": 2
}
