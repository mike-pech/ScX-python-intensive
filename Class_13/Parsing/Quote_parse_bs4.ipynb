{
 "cells": [
  {
   "attachments": {},
   "cell_type": "markdown",
   "metadata": {},
   "source": [
    "## pip install bs4 - установка BeautifulSoup"
   ]
  },
  {
   "cell_type": "code",
   "execution_count": 20,
   "metadata": {},
   "outputs": [
    {
     "name": "stdout",
     "output_type": "stream",
     "text": [
      "b'<!DOCTYPE html>\\n<html lang=\"en\">\\n<head>\\n\\t<meta charset=\"UTF-8\">\\n\\t<title>Quotes to Scrape</title>\\n    <link rel=\"stylesheet\" href=\"/static/bootstrap.min.css\">\\n    <link rel=\"stylesheet\" href=\"/static/main.css\">\\n</head>\\n<body>\\n    <div class=\"container\">\\n        <div class=\"row header-box\">\\n            <div class=\"col-md-8\">\\n                <h1>\\n                    <a href=\"/\" style=\"text-decoration: none\">Quotes to Scrape</a>\\n                </h1>\\n            </div>\\n            <div class=\"col-md-4\">\\n                <p>\\n                \\n                    <a href=\"/login\">Login</a>\\n                \\n                </p>\\n            </div>\\n        </div>\\n    \\n<script src=\"/static/jquery.js\"></script>\\n<script>\\n    var data = [\\n    {\\n        \"tags\": [\\n            \"change\",\\n            \"deep-thoughts\",\\n            \"thinking\",\\n            \"world\"\\n        ],\\n        \"author\": {\\n            \"name\": \"Albert Einstein\",\\n            \"goodreads_link\": \"/author/show/9810.Albert_Einstein\",\\n            \"slug\": \"Albert-Einstein\"\\n        },\\n        \"text\": \"\\\\u201cThe world as we have created it is a process of our thinking. It cannot be changed without changing our thinking.\\\\u201d\"\\n    },\\n    {\\n        \"tags\": [\\n            \"abilities\",\\n            \"choices\"\\n        ],\\n        \"author\": {\\n            \"name\": \"J.K. Rowling\",\\n            \"goodreads_link\": \"/author/show/1077326.J_K_Rowling\",\\n            \"slug\": \"J-K-Rowling\"\\n        },\\n        \"text\": \"\\\\u201cIt is our choices, Harry, that show what we truly are, far more than our abilities.\\\\u201d\"\\n    },\\n    {\\n        \"tags\": [\\n            \"inspirational\",\\n            \"life\",\\n            \"live\",\\n            \"miracle\",\\n            \"miracles\"\\n        ],\\n        \"author\": {\\n            \"name\": \"Albert Einstein\",\\n            \"goodreads_link\": \"/author/show/9810.Albert_Einstein\",\\n            \"slug\": \"Albert-Einstein\"\\n        },\\n        \"text\": \"\\\\u201cThere are only two ways to live your life. One is as though nothing is a miracle. The other is as though everything is a miracle.\\\\u201d\"\\n    },\\n    {\\n        \"tags\": [\\n            \"aliteracy\",\\n            \"books\",\\n            \"classic\",\\n            \"humor\"\\n        ],\\n        \"author\": {\\n            \"name\": \"Jane Austen\",\\n            \"goodreads_link\": \"/author/show/1265.Jane_Austen\",\\n            \"slug\": \"Jane-Austen\"\\n        },\\n        \"text\": \"\\\\u201cThe person, be it gentleman or lady, who has not pleasure in a good novel, must be intolerably stupid.\\\\u201d\"\\n    },\\n    {\\n        \"tags\": [\\n            \"be-yourself\",\\n            \"inspirational\"\\n        ],\\n        \"author\": {\\n            \"name\": \"Marilyn Monroe\",\\n            \"goodreads_link\": \"/author/show/82952.Marilyn_Monroe\",\\n            \"slug\": \"Marilyn-Monroe\"\\n        },\\n        \"text\": \"\\\\u201cImperfection is beauty, madness is genius and it\\'s better to be absolutely ridiculous than absolutely boring.\\\\u201d\"\\n    },\\n    {\\n        \"tags\": [\\n            \"adulthood\",\\n            \"success\",\\n            \"value\"\\n        ],\\n        \"author\": {\\n            \"name\": \"Albert Einstein\",\\n            \"goodreads_link\": \"/author/show/9810.Albert_Einstein\",\\n            \"slug\": \"Albert-Einstein\"\\n        },\\n        \"text\": \"\\\\u201cTry not to become a man of success. Rather become a man of value.\\\\u201d\"\\n    },\\n    {\\n        \"tags\": [\\n            \"life\",\\n            \"love\"\\n        ],\\n        \"author\": {\\n            \"name\": \"Andr\\\\u00e9 Gide\",\\n            \"goodreads_link\": \"/author/show/7617.Andr_Gide\",\\n            \"slug\": \"Andre-Gide\"\\n        },\\n        \"text\": \"\\\\u201cIt is better to be hated for what you are than to be loved for what you are not.\\\\u201d\"\\n    },\\n    {\\n        \"tags\": [\\n            \"edison\",\\n            \"failure\",\\n            \"inspirational\",\\n            \"paraphrased\"\\n        ],\\n        \"author\": {\\n            \"name\": \"Thomas A. Edison\",\\n            \"goodreads_link\": \"/author/show/3091287.Thomas_A_Edison\",\\n            \"slug\": \"Thomas-A-Edison\"\\n        },\\n        \"text\": \"\\\\u201cI have not failed. I\\'ve just found 10,000 ways that won\\'t work.\\\\u201d\"\\n    },\\n    {\\n        \"tags\": [\\n            \"misattributed-eleanor-roosevelt\"\\n        ],\\n        \"author\": {\\n            \"name\": \"Eleanor Roosevelt\",\\n            \"goodreads_link\": \"/author/show/44566.Eleanor_Roosevelt\",\\n            \"slug\": \"Eleanor-Roosevelt\"\\n        },\\n        \"text\": \"\\\\u201cA woman is like a tea bag; you never know how strong it is until it\\'s in hot water.\\\\u201d\"\\n    },\\n    {\\n        \"tags\": [\\n            \"humor\",\\n            \"obvious\",\\n            \"simile\"\\n        ],\\n        \"author\": {\\n            \"name\": \"Steve Martin\",\\n            \"goodreads_link\": \"/author/show/7103.Steve_Martin\",\\n            \"slug\": \"Steve-Martin\"\\n        },\\n        \"text\": \"\\\\u201cA day without sunshine is like, you know, night.\\\\u201d\"\\n    }\\n];\\n    for (var i in data) {\\n        var d = data[i];\\n        var tags = $.map(d[\\'tags\\'], function(t) {\\n            return \"<a class=\\'tag\\'>\" + t + \"</a>\";\\n        }).join(\" \");\\n        document.write(\"<div class=\\'quote\\'><span class=\\'text\\'>\" + d[\\'text\\'] + \"</span><span>by <small class=\\'author\\'>\" + d[\\'author\\'][\\'name\\'] + \"</small></span><div class=\\'tags\\'>Tags: \" + tags + \"</div></div>\");\\n        }\\n</script>\\n<nav>\\n    <ul class=\"pager\">\\n        \\n        \\n        <li class=\"next\">\\n            <a href=\"/js/page/2/\">Next <span aria-hidden=\"true\">&rarr;</span></a>\\n        </li>\\n        \\n    </ul>\\n</nav>\\n\\n    </div>\\n    <footer class=\"footer\">\\n        <div class=\"container\">\\n            <p class=\"text-muted\">\\n                Quotes by: <a href=\"https://www.goodreads.com/quotes\">GoodReads.com</a>\\n            </p>\\n            <p class=\"copyright\">\\n                Made with <span class=\\'zyte\\'>\\xe2\\x9d\\xa4</span> by <a class=\\'zyte\\' href=\"https://www.zyte.com\">Zyte</a>\\n            </p>\\n        </div>\\n    </footer>\\n</body>\\n</html>'\n"
     ]
    }
   ],
   "source": [
    "import requests\n",
    "from bs4 import BeautifulSoup\n",
    "\n",
    "url = 'http://quotes.toscrape.com/'\n",
    "page = requests.get(url)\n",
    "soup = BeautifulSoup(page.content)\n",
    "print(page.content)"
   ]
  },
  {
   "cell_type": "code",
   "execution_count": 21,
   "metadata": {},
   "outputs": [],
   "source": [
    "main_content = soup.find_all('span', class_='text')\n",
    "for el in main_content:\n",
    "    print(el.text)"
   ]
  },
  {
   "cell_type": "code",
   "execution_count": 11,
   "metadata": {},
   "outputs": [
    {
     "name": "stdout",
     "output_type": "stream",
     "text": [
      "Albert Einstein\n",
      "J.K. Rowling\n",
      "Albert Einstein\n",
      "Jane Austen\n",
      "Marilyn Monroe\n",
      "Albert Einstein\n",
      "André Gide\n",
      "Thomas A. Edison\n",
      "Eleanor Roosevelt\n",
      "Steve Martin\n"
     ]
    }
   ],
   "source": [
    "auth_content = soup.find_all('small', class_='author')\n",
    "for el in auth_content:\n",
    "    print(el.text)"
   ]
  },
  {
   "cell_type": "code",
   "execution_count": 12,
   "metadata": {},
   "outputs": [
    {
     "name": "stdout",
     "output_type": "stream",
     "text": [
      "1\n",
      "2\n",
      "3\n"
     ]
    }
   ],
   "source": [
    "diction = {'auth':[], 'quote':[]}\n",
    "for a in range(1, 4):\n",
    "    url = 'http://quotes.toscrape.com/page/' + str(a) + '/'\n",
    "    try:\n",
    "        print(a)\n",
    "        page = requests.get(url)\n",
    "        soup = BeautifulSoup(page.content)\n",
    "        auth_content = soup.find_all('small', class_='author')\n",
    "        quote_content = soup.find_all('span', class_='text')\n",
    "        for q in quote_content:\n",
    "            diction['quote'].append(q.text)\n",
    "        for au in auth_content:\n",
    "            diction['auth'].append(au.text)\n",
    "    except Exception as ex:\n",
    "        print('Не удалось обратиться к странице номер ', a)\n",
    "        print(ex.__context__)\n",
    "#diction"
   ]
  },
  {
   "cell_type": "code",
   "execution_count": 13,
   "metadata": {},
   "outputs": [
    {
     "name": "stdout",
     "output_type": "stream",
     "text": [
      "“It takes a great deal of bravery to stand up to our enemies, but just as much to stand up to our friends.”\n",
      "J.K. Rowling\n"
     ]
    }
   ],
   "source": [
    "from random import randint\n",
    "ind = randint(0, len(diction['auth']))\n",
    "print(diction['quote'][ind])\n",
    "print(diction['auth'][ind])"
   ]
  },
  {
   "cell_type": "markdown",
   "metadata": {},
   "source": [
    "## Парсим bashorg"
   ]
  },
  {
   "cell_type": "code",
   "execution_count": 14,
   "metadata": {},
   "outputs": [],
   "source": [
    "url = 'http://bashorg.org/best/'\n",
    "page = requests.get(url)\n",
    "soup = BeautifulSoup(page.content)"
   ]
  },
  {
   "cell_type": "code",
   "execution_count": 16,
   "metadata": {},
   "outputs": [
    {
     "name": "stdout",
     "output_type": "stream",
     "text": [
      "87932 \n",
      "87931 \n",
      "87930 \n",
      "87929 \n",
      "87928 \n",
      "87927 \n",
      "87926 \n",
      "87925 \n",
      "87924 \n",
      "87923 \n",
      "87922 \n",
      "87921 \n",
      "87920 \n",
      "87919 \n",
      "87918 \n",
      "87917 \n",
      "87916 \n",
      "87915 \n",
      "87914 \n",
      "87913 \n",
      "87912 \n",
      "87911 \n",
      "87910 \n",
      "87909 \n",
      "87908 \n",
      "87907 \n",
      "87906 \n",
      "87905 \n",
      "87904 \n",
      "87903 \n",
      "87902 \n",
      "87901 \n",
      "87900 \n",
      "87899 \n",
      "87898 \n"
     ]
    }
   ],
   "source": [
    "main_content = soup.find_all('div', class_='vote')\n",
    "for el in main_content:\n",
    "    print(el.text.split('|')[0][-6:])"
   ]
  },
  {
   "cell_type": "code",
   "execution_count": 17,
   "metadata": {},
   "outputs": [
    {
     "name": "stdout",
     "output_type": "stream",
     "text": [
      "1\n",
      "2\n",
      "3\n"
     ]
    }
   ],
   "source": [
    "diction = {'auth':[], 'quote':[]}\n",
    "for a in range(1, 4):\n",
    "    url = 'http://bashorg.org/page/' + str(a) + '/'\n",
    "    try:\n",
    "        print(a)\n",
    "        page = requests.get(url)\n",
    "        soup = BeautifulSoup(page.content)\n",
    "        auth_content = soup.find_all('div', class_='quote')\n",
    "        quote_content = soup.find_all('div', class_='vote')\n",
    "        for q in quote_content:\n",
    "            diction['quote'].append(q.text.split('|')[0][-6:])\n",
    "        for au in auth_content:\n",
    "            diction['auth'].append(au.text)\n",
    "    except Exception as ex:\n",
    "        print('Не удалось обратиться к странице номер ', a)\n",
    "        print(ex.__context__)"
   ]
  },
  {
   "cell_type": "code",
   "execution_count": 19,
   "metadata": {},
   "outputs": [
    {
     "data": {
      "text/plain": [
       "'xxx: интересно, сколько интересно щас емкость всего инета?xxx: нашел: Объем общемировых данных вырастет с 33 зеттабайт в 2018 году до 175 в 2025.xxx: я таких приставок даже не знаюyyy: да бляyyy: 99 процентов это порноyyy: остальные 99 процентов это видео с котикамиyyy: еще 99 процентов это порно с котиками.yyy: и того 297 процентов говна '"
      ]
     },
     "execution_count": 19,
     "metadata": {},
     "output_type": "execute_result"
    }
   ],
   "source": [
    "diction['auth'][1]"
   ]
  },
  {
   "cell_type": "code",
   "execution_count": null,
   "metadata": {},
   "outputs": [],
   "source": []
  }
 ],
 "metadata": {
  "kernelspec": {
   "display_name": "Python 3",
   "language": "python",
   "name": "python3"
  },
  "language_info": {
   "codemirror_mode": {
    "name": "ipython",
    "version": 3
   },
   "file_extension": ".py",
   "mimetype": "text/x-python",
   "name": "python",
   "nbconvert_exporter": "python",
   "pygments_lexer": "ipython3",
   "version": "3.9.13"
  },
  "orig_nbformat": 4,
  "vscode": {
   "interpreter": {
    "hash": "06627ec7a50f88fb2d903dd007cdb03cc64a5b99d217d6a407fa0464ccdc9f95"
   }
  }
 },
 "nbformat": 4,
 "nbformat_minor": 2
}
