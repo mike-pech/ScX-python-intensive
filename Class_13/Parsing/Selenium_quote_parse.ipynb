{
 "cells": [
  {
   "cell_type": "markdown",
   "metadata": {},
   "source": [
    "## Парсим через Firefox"
   ]
  },
  {
   "cell_type": "code",
   "execution_count": 1,
   "metadata": {},
   "outputs": [],
   "source": [
    "from selenium.webdriver import Firefox\n",
    "from selenium.webdriver.firefox.service import Service\n",
    "from selenium.webdriver.firefox.options import Options\n",
    "import pandas as pd\n",
    "\n",
    "options=Options()\n",
    "service = Service('geckodriver.exe')\n",
    "driver = Firefox(service=service, options=options)\n",
    "\n",
    "pages = 10\n",
    "for page in range(1, pages):\n",
    "    url = \"http://quotes.toscrape.com/js/page/\" + str(page) + \"/\"\n",
    "    driver.get(url)\n",
    "    items = len(driver.find_elements(by='class name', value='quote'))\n",
    "    total = []\n",
    "    quotes = driver.find_elements(by='class name', value='quote')\n",
    "    for quote in quotes:\n",
    "        quote_text = quote.find_element(by='class name', value='text').text\n",
    "        author = quote.find_element(by='class name', value='author').text\n",
    "        new = ((quote_text, author))\n",
    "        total.append(new)\n",
    "    df = pd.DataFrame(total, columns=['quote', 'author'])\n",
    "    df.to_csv('quoted.csv')\n",
    "driver.close()"
   ]
  },
  {
   "cell_type": "markdown",
   "metadata": {},
   "source": [
    "## Парсим через Chrome"
   ]
  },
  {
   "cell_type": "code",
   "execution_count": 3,
   "metadata": {},
   "outputs": [],
   "source": [
    "from selenium.webdriver import Chrome\n",
    "from selenium.webdriver.chrome.service import Service\n",
    "from selenium.webdriver.chrome.options import Options\n",
    "import pandas as pd\n",
    "\n",
    "options=Options()\n",
    "#options.add_argument(\"--headless\")\n",
    "#options.add_argument(\"--no-sandbox\")\n",
    "#options.add_argument(\"--disable-gpu\")\n",
    "#options.add_argument(\"--remote-debugging-port=9230\")\n",
    "service = Service('chromedriver.exe')\n",
    "driver = Chrome(service=service, options=options)\n",
    "\n",
    "pages = 10\n",
    "for page in range(1, pages):\n",
    "    url = \"http://quotes.toscrape.com/js/page/\" + str(page) + \"/\"\n",
    "    driver.get(url)\n",
    "    total = []\n",
    "    quotes = driver.find_elements(by='class name', value='quote')\n",
    "    for quote in quotes:\n",
    "        quote_text = quote.find_element(by='class name', value='text').text\n",
    "        author = quote.find_element(by='class name', value='author').text\n",
    "        new = ((quote_text, author))\n",
    "        total.append(new)\n",
    "    df = pd.DataFrame(total, columns=['quote', 'author'])\n",
    "    \n",
    "    df.to_csv('quoted.csv')\n",
    "driver.close()"
   ]
  },
  {
   "cell_type": "code",
   "execution_count": null,
   "metadata": {},
   "outputs": [],
   "source": []
  }
 ],
 "metadata": {
  "kernelspec": {
   "display_name": "Python 3",
   "language": "python",
   "name": "python3"
  },
  "language_info": {
   "codemirror_mode": {
    "name": "ipython",
    "version": 3
   },
   "file_extension": ".py",
   "mimetype": "text/x-python",
   "name": "python",
   "nbconvert_exporter": "python",
   "pygments_lexer": "ipython3",
   "version": "3.9.13"
  },
  "orig_nbformat": 4,
  "vscode": {
   "interpreter": {
    "hash": "06627ec7a50f88fb2d903dd007cdb03cc64a5b99d217d6a407fa0464ccdc9f95"
   }
  }
 },
 "nbformat": 4,
 "nbformat_minor": 2
}
